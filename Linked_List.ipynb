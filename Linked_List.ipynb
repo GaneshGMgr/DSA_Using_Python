{
 "cells": [
  {
   "cell_type": "code",
   "execution_count": 25,
   "metadata": {
    "id": "3IdNglXYQi7z"
   },
   "outputs": [],
   "source": [
    "class Node: # Creating the node that will store data and the address of next noded\n",
    "\n",
    "  def __init__(self,value):\n",
    "    self.data = value\n",
    "    self.next = None"
   ]
  },
  {
   "cell_type": "code",
   "execution_count": 26,
   "metadata": {
    "id": "_zNaH474Q840"
   },
   "outputs": [],
   "source": [
    "# This is creating node individually and connecting them like a.next = b\n",
    "a = Node(1)\n",
    "b = Node(2)\n",
    "c = Node(3)"
   ]
  },
  {
   "cell_type": "code",
   "execution_count": 27,
   "metadata": {
    "colab": {
     "base_uri": "https://localhost:8080/"
    },
    "id": "h6ilPlrARD4_",
    "outputId": "e2379320-b1b9-4700-df0d-7ea957c3a6b8"
   },
   "outputs": [
    {
     "name": "stdout",
     "output_type": "stream",
     "text": [
      "3\n"
     ]
    }
   ],
   "source": [
    "print(c.data)"
   ]
  },
  {
   "cell_type": "code",
   "execution_count": 28,
   "metadata": {},
   "outputs": [
    {
     "data": {
      "text/plain": [
       "1635700778048"
      ]
     },
     "execution_count": 28,
     "metadata": {},
     "output_type": "execute_result"
    }
   ],
   "source": [
    "id(a) # id function provide the memory address"
   ]
  },
  {
   "cell_type": "code",
   "execution_count": 29,
   "metadata": {},
   "outputs": [
    {
     "data": {
      "text/plain": [
       "1635700777040"
      ]
     },
     "execution_count": 29,
     "metadata": {},
     "output_type": "execute_result"
    }
   ],
   "source": [
    "id(b)"
   ]
  },
  {
   "cell_type": "code",
   "execution_count": 30,
   "metadata": {},
   "outputs": [
    {
     "data": {
      "text/plain": [
       "1635700781648"
      ]
     },
     "execution_count": 30,
     "metadata": {},
     "output_type": "execute_result"
    }
   ],
   "source": [
    "id(c)"
   ]
  },
  {
   "cell_type": "code",
   "execution_count": 31,
   "metadata": {
    "id": "P7uiJH95RJBg"
   },
   "outputs": [],
   "source": [
    "a.next = b # a store the address of b\n",
    "b.next =  c # b store the address of c"
   ]
  },
  {
   "cell_type": "code",
   "execution_count": 32,
   "metadata": {},
   "outputs": [
    {
     "name": "stdout",
     "output_type": "stream",
     "text": [
      "<__main__.Node object at 0x0000017CD75D2050>\n"
     ]
    }
   ],
   "source": [
    "print(a.next)"
   ]
  },
  {
   "cell_type": "code",
   "execution_count": 33,
   "metadata": {},
   "outputs": [
    {
     "data": {
      "text/plain": [
       "2589837933968"
      ]
     },
     "execution_count": 33,
     "metadata": {},
     "output_type": "execute_result"
    }
   ],
   "source": [
    "int(0x0000025AFE5EBD90)"
   ]
  },
  {
   "cell_type": "code",
   "execution_count": 34,
   "metadata": {},
   "outputs": [
    {
     "name": "stdout",
     "output_type": "stream",
     "text": [
      "1635700777040\n"
     ]
    }
   ],
   "source": [
    "print(int(id(a.next)))"
   ]
  },
  {
   "cell_type": "code",
   "execution_count": 35,
   "metadata": {
    "colab": {
     "base_uri": "https://localhost:8080/"
    },
    "id": "HHST4ARXRnC0",
    "outputId": "3d6d2278-93c5-467f-fa88-c767aa4149a1"
   },
   "outputs": [
    {
     "name": "stdout",
     "output_type": "stream",
     "text": [
      "None\n"
     ]
    }
   ],
   "source": [
    "print(c.next)"
   ]
  },
  {
   "cell_type": "markdown",
   "metadata": {},
   "source": [
    "### What is a Linked List (LL)\n",
    "*************************************************\n",
    "\n",
    "1) Node [D]\n",
    "2) Create a Linked List\n",
    "3) len\n",
    "#### this below operation are i.m.p  insert/traverse/delete/search\n",
    "4) insert from head\n",
    "5) traverse/print\n",
    "6) insert from tail(append)\n",
    "7) insert in middle(after)\n",
    "\n",
    "\n",
    "8) clear\n",
    "9) delete from head\n",
    "10) from tail(pop)\n",
    "11) delete by value(remove)\n",
    "\n",
    "12) search by value(find)\n",
    "13) delete by index -> del l[0]\n",
    "14) search by index(indexing)\n",
    "\n",
    "**********************************************\n",
    "\n",
    "\n",
    "Array vs Linked List"
   ]
  },
  {
   "cell_type": "code",
   "execution_count": 36,
   "metadata": {
    "id": "5iNlAQR3R91c"
   },
   "outputs": [],
   "source": [
    "#################### 1. Creating a Node #######################\n",
    "class Node:\n",
    "\n",
    "  def __init__(self,value):\n",
    "    self.data = value\n",
    "    self.next = None"
   ]
  },
  {
   "cell_type": "code",
   "execution_count": 37,
   "metadata": {
    "id": "RzuzauLNScVg"
   },
   "outputs": [],
   "source": [
    "class LinkedList:\n",
    "    #################### 2. Creating a Linked List #######################\n",
    "    def __init__(self):\n",
    "        # Empty Linked List mean not a single node i.e is zero node\n",
    "        self.head = None  # this mean linked list is empty\n",
    "        # no of nodes in the LL\n",
    "        self.n = 0  # it will count how many nodes in linked list, here node is zero\n",
    "\n",
    "    \n",
    "    #################### 3. len  ####################### -> no. of node in the linked list\n",
    "    def __len__(self):  # when len() function is called then it will provide the length of the linked list i.e no. of node present in LL\n",
    "        return self.n\n",
    "\n",
    "    \n",
    "    #################### 4. insertion from head  ####################### ->\n",
    "    def insert_head(self, value):\n",
    "        # new node\n",
    "        # new node always contain None first, when we insert it from head(beginning) of ll with keep the address of previous head node \n",
    "        # in place of None and then point the head to new node  as new head node\n",
    "        new_node = Node(value)  # new node is creating \n",
    "\n",
    "        # create connection\n",
    "        new_node.next = self.head  # creating a connection by storing the head node address in new_node\n",
    "\n",
    "        # reassign head\n",
    "        self.head = new_node  # now making the head node as new_node \n",
    "\n",
    "        # increment n\n",
    "        self.n = self.n + 1  # incement 1 due to one node is added\n",
    "\n",
    "    \n",
    "    #################### 5. traverse/print  ####################### ->\n",
    "    def traverse(self):\n",
    "        current = self.head  # first node i.e head node is a current node \n",
    "        while current != None:  # run the loop until current will not find the None i.e in last node\n",
    "            print(current.data)  # each and every data print\n",
    "            current = current.next  # increase the current to next node after printing\n",
    "\n",
    "    \n",
    "    ########### print ##########\n",
    "    def __str__(self):\n",
    "        curr = self.head\n",
    "        result = ''\n",
    "        while curr != None:\n",
    "            result = result + str(curr.data) + '->'\n",
    "            curr = curr.next\n",
    "        return result[:-2]  # result will looks like this  \"8->4->\" so to make like this \"8->4\" thier is -2, it will remove last two character - and > \n",
    "\n",
    "    \n",
    "    #################### 6. insert from tail(last)  ####################### ->\n",
    "    def append(self, value):\n",
    "        new_node = Node(value) # new node is create that contain value\n",
    "        if self.head == None: # this mean their is only single node not contain value only none contain like this  [none] \n",
    "            # empty\n",
    "            self.head = new_node #then our new_node will be head node  point head node as new node\n",
    "            self.n = self.n + 1 # then no. of node will be increase by 1\n",
    "            return # if this if condition is true then after return  then below code will not be executed\n",
    "        current = self.head # current node become head node now \n",
    "        while current.next != None: # loop run until  the condition  match\n",
    "            current = current.next\n",
    "        # you are at the last node\n",
    "        current.next = new_node # if condition match loop stop and point the tail node to new_node and previous tail_node become only node\n",
    "        self.n = self.n + 1 # increase no. of node \n",
    "\n",
    "    \n",
    "    #################### 7. insert in middle(after)  ####################### ->\n",
    "    def insert_after(self, after, value):# after = after which node we want to add node      and         value = what value we want to store\n",
    "        new_node = Node(value)\n",
    "        current = self.head\n",
    "        while current != None:\n",
    "            if current.data == after: # this mean current data equal after(which number after we want to insert) like if their is 1->2->3->4  \n",
    "                break  # if we want to add node after 2 then when current.data = after = 2  then it will stop  and then \n",
    "            current = current.next # and then  current node will be set to that node this mean current node is 2. according to this scenario\n",
    "        if current != None: # if current(2) not contain none then \n",
    "            new_node.next = current.next # then new node will store the address that is contain in current node(2) which is address of 3\n",
    "            current.next = new_node # and  current node(2) will store  address of new node like this 1->2->new_node->3->4\n",
    "            self.n = self.n + 1 # and no. of node is increase by 1\n",
    "        else: # this mean if current(2) is not in linked list that is out of range like 7 or 32  which is not contain is ll \n",
    "            return 'Item not found' # then it will throw'Item not found'\n",
    "\n",
    "    \n",
    "    #################### 8. clear  ####################### ->\n",
    "    def clear(self): # re creating the new linked list\n",
    "        self.head = None\n",
    "        self.n = 0\n",
    "\n",
    "    \n",
    "    #################### 9. deltet from head(from beginning)   ####################### ->\n",
    "    def delete_head(self):\n",
    "        if self.head == None:\n",
    "            # empty\n",
    "            return 'Empty LL'\n",
    "        self.head = self.head.next # make a next node to head node  like eg: 2->3->4 is ll and if 2 is head node now from this line head node is 3\n",
    "        self.n = self.n - 1 # delete previous head node which is delete from beginning and output is 3->4\n",
    "\n",
    "    \n",
    "    #################### 10. deltet from tail(from last)   ####################### -> it is also called pop operation\n",
    "    def pop(self):\n",
    "        if self.head == None: # here will be error occured if their is not a node which mean empty linked list.\n",
    "            # empty\n",
    "            return 'Empty LL'\n",
    "        curr = self.head\n",
    "        # kya linked list me 1 item hai?\n",
    "        if curr.next == None: # this condition is because if their only a single node that node contain next node as none which display error\n",
    "            # head hi hoga(delete from head)\n",
    "            return self.delete_head() # delete_head() function is called because it is delete from head\n",
    "        while curr.next.next != None: # this condition mean travers upto second last node\n",
    "            curr = curr.next # only travers forward by making current next node to  curr.next untill second last node is obtain\n",
    "        # curr -> 2nd last node\n",
    "        curr.next = None # once the second last node is find loop will be exit and then makning current next node to None by using this line\n",
    "        self.n = self.n - 1 # and then decrease the node by 1  because one node is deleted\n",
    "\n",
    "    \n",
    "    #################### 11) delete by value(remove)  ####################\n",
    "    def remove(self, value):\n",
    "        if self.head == None:\n",
    "            return 'Empty LL'\n",
    "        if self.head.data == value:\n",
    "            # you want to remove the head node\n",
    "            return self.delete_head() # delete_head() is a function of deleting elements from first so if first item need to delete then it will work\n",
    "        curr = self.head # new head node become current node\n",
    "        while curr.next != None: # traverse until None is found\n",
    "            if curr.next.data == value: # it will check during traverse next node is equal value or not\n",
    "                break # if match then break and then \n",
    "            curr = curr.next # then that node which is equal to value will be set to current node\n",
    "        # 2 cases item mil gaya\n",
    "        # item nai mila\n",
    "        if curr.next == None:\n",
    "            # item nai mila\n",
    "            return 'Not Found'\n",
    "        else:\n",
    "            curr.next = curr.next.next # here connection is establish between current node and current node next of next node\n",
    "            self.n = self.n - 1\n",
    "\n",
    "    \n",
    "    #################### 12) search by value(find) #################### \n",
    "    def search(self, item):\n",
    "        curr = self.head\n",
    "        pos = 0\n",
    "        while curr != None:\n",
    "            if curr.data == item: # match the value with search value \n",
    "                return pos # if match then return position or index\n",
    "            curr = curr.next # if not match then loop will be exit and then update current node with next node\n",
    "            pos = pos + 1 # and position also update\n",
    "        return 'Not Found' # if value is not found\n",
    "\n",
    "    \n",
    "    #################### 13) delete by index -> del l[0] #################### \n",
    "    def delete_by_index(self, position):\n",
    "        # Correction: Added indentation for the method\n",
    "        if position < 0 or position >= self.n:\n",
    "            raise IndexError(\"Index out of range\")\n",
    "            \n",
    "        # Case 1: Deleting the head node\n",
    "        if position == 0:\n",
    "            self.head = self.head.next\n",
    "        else:\n",
    "            current = self.head\n",
    "            previous_node = None\n",
    "            index_count = 0\n",
    "            \n",
    "            # Traverse to the node at position\n",
    "            while index_count < position: #  8->7->6->5->4->3 from this ll if we delete index 2 which is 6 then\n",
    "                previous_node = current\n",
    "                current = current.next\n",
    "                index_count += 1\n",
    "                \n",
    "            # Unlink the node at position\n",
    "            previous_node.next = current.next # previous_node = 7 and current = 6  previous_node(7).next = curent(6).next which is 5 so 8->7->5->4->3\n",
    "            \n",
    "        self.n -= 1  # Decrease the count of nodes\n",
    "\n",
    "    \n",
    "    #################### 14) search by index(indexing) #################### \n",
    "    def __getitem__(self, index):\n",
    "        curr = self.head\n",
    "        pos = 0\n",
    "        while curr != None:\n",
    "            if pos == index: # match the position with search index \n",
    "                return curr.data # if match return the value of that index\n",
    "            curr = curr.next # if not match update next node as current node\n",
    "            pos = pos + 1 # also position also update \n",
    "        return 'IndexError' # if nothing found error \n"
   ]
  },
  {
   "cell_type": "markdown",
   "metadata": {},
   "source": [
    "## 2. Linked list created"
   ]
  },
  {
   "cell_type": "code",
   "execution_count": 38,
   "metadata": {
    "id": "gWf5rFdZS-3p"
   },
   "outputs": [],
   "source": [
    "L = LinkedList()"
   ]
  },
  {
   "cell_type": "markdown",
   "metadata": {},
   "source": [
    "## 3. len -> provide the length of the lL i.e no of nodes in lL"
   ]
  },
  {
   "cell_type": "code",
   "execution_count": 39,
   "metadata": {},
   "outputs": [
    {
     "data": {
      "text/plain": [
       "0"
      ]
     },
     "execution_count": 39,
     "metadata": {},
     "output_type": "execute_result"
    }
   ],
   "source": [
    "len(L)"
   ]
  },
  {
   "cell_type": "markdown",
   "metadata": {},
   "source": [
    "## 4. insert from head(from beginning)"
   ]
  },
  {
   "cell_type": "code",
   "execution_count": 40,
   "metadata": {},
   "outputs": [],
   "source": [
    "L.insert_head(1)\n",
    "L.insert_head(2)\n",
    "L.insert_head(3)\n",
    "L.insert_head(4)\n",
    "L.insert_head(5)\n",
    "L.insert_head(6)\n",
    "L.insert_head(7)\n",
    "L.insert_head(8)"
   ]
  },
  {
   "cell_type": "code",
   "execution_count": 41,
   "metadata": {},
   "outputs": [
    {
     "data": {
      "text/plain": [
       "8"
      ]
     },
     "execution_count": 41,
     "metadata": {},
     "output_type": "execute_result"
    }
   ],
   "source": [
    "len(L)"
   ]
  },
  {
   "cell_type": "markdown",
   "metadata": {},
   "source": [
    "## 5. traverse/print"
   ]
  },
  {
   "cell_type": "code",
   "execution_count": 42,
   "metadata": {},
   "outputs": [
    {
     "name": "stdout",
     "output_type": "stream",
     "text": [
      "8\n",
      "7\n",
      "6\n",
      "5\n",
      "4\n",
      "3\n",
      "2\n",
      "1\n"
     ]
    }
   ],
   "source": [
    "# listing all the values that is stored in linked list\n",
    "L.traverse()"
   ]
  },
  {
   "cell_type": "code",
   "execution_count": 43,
   "metadata": {},
   "outputs": [
    {
     "name": "stdout",
     "output_type": "stream",
     "text": [
      "8->7->6->5->4->3->2->1\n"
     ]
    }
   ],
   "source": [
    "# print\n",
    "print(L)"
   ]
  },
  {
   "cell_type": "markdown",
   "metadata": {},
   "source": [
    "## 6. insert from tail(from last)"
   ]
  },
  {
   "cell_type": "code",
   "execution_count": 44,
   "metadata": {},
   "outputs": [],
   "source": [
    "L.append(9)"
   ]
  },
  {
   "cell_type": "code",
   "execution_count": 45,
   "metadata": {},
   "outputs": [
    {
     "name": "stdout",
     "output_type": "stream",
     "text": [
      "8->7->6->5->4->3->2->1->9\n"
     ]
    }
   ],
   "source": [
    "print(L)"
   ]
  },
  {
   "cell_type": "markdown",
   "metadata": {},
   "source": [
    "## 7. insert in middle(after)"
   ]
  },
  {
   "cell_type": "code",
   "execution_count": 46,
   "metadata": {},
   "outputs": [],
   "source": [
    "# L.insert_after(200, 4) # if after value is out of range then loop wil be run until NONE and error occured\n",
    "L.insert_after(6, 11) \n",
    "L.insert_after(8, 10) "
   ]
  },
  {
   "cell_type": "code",
   "execution_count": 47,
   "metadata": {},
   "outputs": [
    {
     "name": "stdout",
     "output_type": "stream",
     "text": [
      "8->10->7->6->11->5->4->3->2->1->9\n"
     ]
    }
   ],
   "source": [
    "print(L)"
   ]
  },
  {
   "cell_type": "markdown",
   "metadata": {},
   "source": [
    "## 8. clear() -> empty linked list"
   ]
  },
  {
   "cell_type": "code",
   "execution_count": 48,
   "metadata": {},
   "outputs": [],
   "source": [
    "# L.clear()"
   ]
  },
  {
   "cell_type": "markdown",
   "metadata": {},
   "source": [
    "## 9. deltet from head(from beginning)"
   ]
  },
  {
   "cell_type": "code",
   "execution_count": 49,
   "metadata": {},
   "outputs": [
    {
     "name": "stdout",
     "output_type": "stream",
     "text": [
      "8->10->7->6->11->5->4->3->2->1->9\n"
     ]
    }
   ],
   "source": [
    "print(L)\n",
    "L.delete_head() # this will display error if their is empty list"
   ]
  },
  {
   "cell_type": "code",
   "execution_count": 50,
   "metadata": {},
   "outputs": [
    {
     "name": "stdout",
     "output_type": "stream",
     "text": [
      "10->7->6->11->5->4->3->2->1->9\n"
     ]
    }
   ],
   "source": [
    "print(L)"
   ]
  },
  {
   "cell_type": "markdown",
   "metadata": {},
   "source": [
    "## 10) from tail(pop)"
   ]
  },
  {
   "cell_type": "code",
   "execution_count": 51,
   "metadata": {},
   "outputs": [
    {
     "name": "stdout",
     "output_type": "stream",
     "text": [
      "10->7->6->11->5->4->3->2->1->9\n"
     ]
    }
   ],
   "source": [
    "print(L)\n",
    "L.pop()"
   ]
  },
  {
   "cell_type": "code",
   "execution_count": 52,
   "metadata": {},
   "outputs": [
    {
     "name": "stdout",
     "output_type": "stream",
     "text": [
      "10->7->6->11->5->4->3->2->1\n"
     ]
    }
   ],
   "source": [
    "print(L)"
   ]
  },
  {
   "cell_type": "markdown",
   "metadata": {},
   "source": [
    "## 11) delete by value(remove)"
   ]
  },
  {
   "cell_type": "code",
   "execution_count": 53,
   "metadata": {},
   "outputs": [
    {
     "name": "stdout",
     "output_type": "stream",
     "text": [
      "10->7->6->11->5->4->3->2->1\n"
     ]
    }
   ],
   "source": [
    "print(L)\n",
    "L.remove(10)"
   ]
  },
  {
   "cell_type": "code",
   "execution_count": 54,
   "metadata": {},
   "outputs": [
    {
     "name": "stdout",
     "output_type": "stream",
     "text": [
      "7->6->11->5->4->3->2->1\n"
     ]
    }
   ],
   "source": [
    "print(L)"
   ]
  },
  {
   "cell_type": "markdown",
   "metadata": {},
   "source": [
    "## 12) search by value(find)"
   ]
  },
  {
   "cell_type": "code",
   "execution_count": 55,
   "metadata": {},
   "outputs": [
    {
     "data": {
      "text/plain": [
       "2"
      ]
     },
     "execution_count": 55,
     "metadata": {},
     "output_type": "execute_result"
    }
   ],
   "source": [
    "L.search(11)"
   ]
  },
  {
   "cell_type": "markdown",
   "metadata": {},
   "source": [
    "## 13) delete by index -> del l[0]"
   ]
  },
  {
   "cell_type": "code",
   "execution_count": 56,
   "metadata": {},
   "outputs": [
    {
     "name": "stdout",
     "output_type": "stream",
     "text": [
      "7->6->11->5->4->3->2->1\n"
     ]
    }
   ],
   "source": [
    "print(L)\n",
    "L.delete_by_index(2)"
   ]
  },
  {
   "cell_type": "code",
   "execution_count": 57,
   "metadata": {},
   "outputs": [
    {
     "name": "stdout",
     "output_type": "stream",
     "text": [
      "7->6->5->4->3->2->1\n"
     ]
    }
   ],
   "source": [
    "print(L)"
   ]
  },
  {
   "cell_type": "code",
   "execution_count": 58,
   "metadata": {},
   "outputs": [],
   "source": [
    "L.delete_by_index(6)"
   ]
  },
  {
   "cell_type": "code",
   "execution_count": 59,
   "metadata": {},
   "outputs": [
    {
     "name": "stdout",
     "output_type": "stream",
     "text": [
      "7->6->5->4->3->2\n"
     ]
    }
   ],
   "source": [
    "print(L)"
   ]
  },
  {
   "cell_type": "markdown",
   "metadata": {},
   "source": [
    "## 14) search by index(indexing)"
   ]
  },
  {
   "cell_type": "code",
   "execution_count": 60,
   "metadata": {},
   "outputs": [
    {
     "data": {
      "text/plain": [
       "3"
      ]
     },
     "execution_count": 60,
     "metadata": {},
     "output_type": "execute_result"
    }
   ],
   "source": [
    "L[4]"
   ]
  },
  {
   "cell_type": "code",
   "execution_count": null,
   "metadata": {
    "id": "3Ur3zrkDcoiI"
   },
   "outputs": [],
   "source": []
  }
 ],
 "metadata": {
  "colab": {
   "provenance": []
  },
  "kernelspec": {
   "display_name": "Python 3 (ipykernel)",
   "language": "python",
   "name": "python3"
  },
  "language_info": {
   "codemirror_mode": {
    "name": "ipython",
    "version": 3
   },
   "file_extension": ".py",
   "mimetype": "text/x-python",
   "name": "python",
   "nbconvert_exporter": "python",
   "pygments_lexer": "ipython3",
   "version": "3.10.13"
  }
 },
 "nbformat": 4,
 "nbformat_minor": 4
}
