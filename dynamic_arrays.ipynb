{
 "cells": [
  {
   "cell_type": "code",
   "execution_count": 454,
   "metadata": {
    "id": "QZ5u8mep3z4q"
   },
   "outputs": [],
   "source": [
    "import ctypes # it is a foreign function library for python that creates C compatible data type\n",
    "# to create C type ka array"
   ]
  },
  {
   "cell_type": "markdown",
   "metadata": {},
   "source": [
    "# Dynamic Array\n",
    "##### Task to perform\n",
    "1. create list [D]\n",
    "2. len\n",
    "3. append\n",
    "4. print\n",
    "5. indexing\n",
    "6. pop\n",
    "7. clear\n",
    "8. find\n",
    "9. insert\n",
    "10. delete\n",
    "11. remove\n",
    "12. sort/min/max/sum\n",
    "13. extend\n",
    "14. negative indexing\n",
    "15. slicing\n",
    "16. Merge"
   ]
  },
  {
   "cell_type": "code",
   "execution_count": 455,
   "metadata": {
    "id": "FJ_5iTUh4Jcv"
   },
   "outputs": [],
   "source": [
    "class MeraList:\n",
    "\n",
    "  def __init__(self):\n",
    "    self.size = 1 # total size of the array\n",
    "    self.n = 0 # how may items contain inside array i.e length of the array\n",
    "\n",
    "      ####################### 1.  Create List[D] ####################### \n",
    "    # create a C type ka array with size -> self.size\n",
    "    self.A = self.__make_array(self.size) # __make_array() function call to make array list which is C type\n",
    "\n",
    "    #######################  2. len [D]#######################  # => it will provide the length of the array\n",
    "  def __len__(self): # this is for length function,  it provide the length when len() with parameter   is run\n",
    "    return self.n # self.n provide the length of the array\n",
    "      \n",
    " #######################  3. append [D] ####################### => it will append new items in dynamic array\n",
    "  def append(self,item):\n",
    "    # check if vacant\n",
    "    if self.n == self.size:\n",
    "      # array is full -> resize\n",
    "        # __resize() function call\n",
    "      self.__resize(self.size*2) # copy the previous array and then make it double  and create a new array with double then previous\n",
    "        \n",
    "    # append items in new array\n",
    "    self.A[self.n] = item\n",
    "    self.n = self.n + 1\n",
    "\n",
    "     #######################  4. pop [D] #######################  => it will pop(delete) the last element only in every time\n",
    "  def pop(self):\n",
    "    if self.n == 0:\n",
    "      return 'Empty List'\n",
    "    print(self.A[self.n-1]) # print the last element that is going to be delete\n",
    "    self.n = self.n - 1\n",
    "\n",
    "     #######################  5. clear [D] #######################  => it will totally delete the list, i.e list become empty\n",
    "  def clear(self):\n",
    "      # re-creating all new\n",
    "    self.n = 0\n",
    "    self.size = 1\n",
    "\n",
    "     #######################  6. find [D] #######################  => it will find that in which position the value is content\n",
    "  def find(self,item):\n",
    "\n",
    "    for i in range(self.n):\n",
    "      if self.A[i] == item:\n",
    "        return i\n",
    "    return 'ValueError - not in list'\n",
    "\n",
    "     #######################  7. insert [D] ####################### => insert the items using index\n",
    "  def insert(self,position,item):\n",
    "\n",
    "    if self.n == self.size:\n",
    "      self.__resize(self.size*2)\n",
    "    # loop is in backward direction from n to position and position is not include \n",
    "    for i in range(self.n,position,-1): #-1 indicates that the loop will iterate in reverse order, decrementing i by 1 in each iteration.\n",
    "      self.A[i] = self.A[i-1] # shift the element in forward direction\n",
    "\n",
    "    self.A[position] = item # replace the item with new item according to the position\n",
    "    self.n = self.n + 1 # item is added so length of array is increase by 1\n",
    "\n",
    "     #######################  8. remove [D] ####################### \n",
    "  def remove(self,item):\n",
    "    # search and get pos\n",
    "    pos = self.find(item)\n",
    "    if type(pos) == int:\n",
    "      # delete\n",
    "      self.__delitem__(pos)\n",
    "    else:\n",
    "      return pos\n",
    "\n",
    "     # resizing the array if previous array is full to make new array with double then previous array \n",
    "  def __resize(self,new_capacity): # here new_capacity = self.size*2\n",
    "    # create a new array with new capacity\n",
    "      # __make_array() function call\n",
    "    B = self.__make_array(new_capacity) # here new_capacity = self.size*2\n",
    "    self.size = new_capacity\n",
    "    # copy the content of old array to new one\n",
    "    for i in range(self.n):\n",
    "      B[i] = self.A[i] # copy the items from A previous array to B new array which is double then previous\n",
    "    # reassign A\n",
    "    self.A = B # consider B which is new array is a  A which is previous array\n",
    "\n",
    "    \n",
    "#######################  9. print [D] ####################### \n",
    "  def __str__(self): # __str__ will print the elements\n",
    "    result = ''\n",
    "    for i in range(self.n):\n",
    "      result = result + str(self.A[i]) + ',' # fetching all element and convert to string and then append to result\n",
    "        # [:-1] indicate select all elements but should not include last element i.e is comma ','  in this case\n",
    "    return '[' + result[:-1] + ']' # returning the result by converting it to list  i.e []\n",
    "\n",
    "    \n",
    "    #######################  10. Indexing [D] ####################### \n",
    "  def __getitem__(self,index): # __getitem__ will give the value according to index\n",
    "\n",
    "    if 0<= index < self.n:\n",
    "      return self.A[index]\n",
    "    else:\n",
    "      return 'IndexError'\n",
    "\n",
    "    \n",
    "     #######################  11`. Delete [D] #######################  -> delete the item using index\n",
    "  def __delitem__(self,position):\n",
    "    # delete pos wala item\n",
    "    if 0<= position < self.n: #  #  out of range index delete the last item if this condition is not implemented\n",
    "      for i in range(position,self.n-1): # loop is in forward direction from position to n-1 because last one is not included\n",
    "        self.A[i] = self.A[i+1]  # shift the element in backward direction by replacing with delete items \n",
    "      self.n = self.n - 1  # item is delete so length of array is decrease by 1\n",
    "\n",
    "    \n",
    "    ####################### 1.  Create List[D] #######################\n",
    "  def __make_array(self,capacity): # here capacity = self.size*2\n",
    "    # referential array(C type)\n",
    "    return (capacity*ctypes.py_object)() # creating a C type array(static, refrencial) with size capacity"
   ]
  },
  {
   "cell_type": "code",
   "execution_count": 456,
   "metadata": {
    "id": "0dr0QIug5WXt"
   },
   "outputs": [],
   "source": [
    "L = MeraList()"
   ]
  },
  {
   "cell_type": "markdown",
   "metadata": {},
   "source": [
    "# 1. List is created"
   ]
  },
  {
   "cell_type": "code",
   "execution_count": 457,
   "metadata": {},
   "outputs": [
    {
     "data": {
      "text/plain": [
       "__main__.MeraList"
      ]
     },
     "execution_count": 457,
     "metadata": {},
     "output_type": "execute_result"
    }
   ],
   "source": [
    "# List is created\n",
    "type(L)"
   ]
  },
  {
   "cell_type": "markdown",
   "metadata": {},
   "source": [
    "# 2.  append list -> append item to array"
   ]
  },
  {
   "cell_type": "code",
   "execution_count": 458,
   "metadata": {
    "id": "kRiwtEgJ5Y5l"
   },
   "outputs": [],
   "source": [
    "# append list\n",
    "L.append(1)\n",
    "L.append('hello')\n",
    "L.append(False)\n",
    "L.append(4.5)\n",
    "L.append('hi')\n",
    "L.append(True)\n",
    "L.append(4)\n",
    "L.append(1.4)\n",
    "L.append('are')\n",
    "L.append('not')\n",
    "L.append(12)\n",
    "L.append(7.34)"
   ]
  },
  {
   "cell_type": "markdown",
   "metadata": {},
   "source": [
    "# 3. len -> length of the array"
   ]
  },
  {
   "cell_type": "code",
   "execution_count": 459,
   "metadata": {},
   "outputs": [
    {
     "data": {
      "text/plain": [
       "12"
      ]
     },
     "execution_count": 459,
     "metadata": {},
     "output_type": "execute_result"
    }
   ],
   "source": [
    "# len\n",
    "len(L)"
   ]
  },
  {
   "cell_type": "markdown",
   "metadata": {},
   "source": [
    "# 4. Print list"
   ]
  },
  {
   "cell_type": "code",
   "execution_count": 460,
   "metadata": {
    "colab": {
     "base_uri": "https://localhost:8080/"
    },
    "id": "JrdjNFWC8Wbn",
    "outputId": "170821bd-8d0f-4016-aa9d-f064cb270e64"
   },
   "outputs": [
    {
     "name": "stdout",
     "output_type": "stream",
     "text": [
      "[1,hello,False,4.5,hi,True,4,1.4,are,not,12,7.34]\n"
     ]
    }
   ],
   "source": [
    " # print list\n",
    "print(L)"
   ]
  },
  {
   "cell_type": "markdown",
   "metadata": {},
   "source": [
    "# 5. Indexing -> find value using index"
   ]
  },
  {
   "cell_type": "code",
   "execution_count": 461,
   "metadata": {},
   "outputs": [
    {
     "data": {
      "text/plain": [
       "12"
      ]
     },
     "execution_count": 461,
     "metadata": {},
     "output_type": "execute_result"
    }
   ],
   "source": [
    "# indexing\n",
    "# L[2]\n",
    "# L[1]\n",
    "L[10]"
   ]
  },
  {
   "cell_type": "markdown",
   "metadata": {},
   "source": [
    "# 6. Pop ->  delete the last element"
   ]
  },
  {
   "cell_type": "code",
   "execution_count": 462,
   "metadata": {
    "colab": {
     "base_uri": "https://localhost:8080/"
    },
    "id": "eFiGLQqB5emG",
    "outputId": "e3000a0e-d9d7-4018-f312-84ad7288287f"
   },
   "outputs": [
    {
     "name": "stdout",
     "output_type": "stream",
     "text": [
      "[1,hello,False,4.5,hi,True,4,1.4,are,not,12,7.34]\n"
     ]
    }
   ],
   "source": [
    "# L = [10,20,30]\n",
    "# L.pop()\n",
    "# L\n",
    "print(L)"
   ]
  },
  {
   "cell_type": "code",
   "execution_count": 463,
   "metadata": {},
   "outputs": [
    {
     "name": "stdout",
     "output_type": "stream",
     "text": [
      "7.34\n"
     ]
    }
   ],
   "source": [
    "L.pop()"
   ]
  },
  {
   "cell_type": "code",
   "execution_count": 464,
   "metadata": {},
   "outputs": [
    {
     "name": "stdout",
     "output_type": "stream",
     "text": [
      "[1,hello,False,4.5,hi,True,4,1.4,are,not,12]\n"
     ]
    }
   ],
   "source": [
    "print(L)"
   ]
  },
  {
   "cell_type": "markdown",
   "metadata": {},
   "source": [
    "# 7. clear -> it will delete all the list once and become empty list"
   ]
  },
  {
   "cell_type": "code",
   "execution_count": 465,
   "metadata": {},
   "outputs": [],
   "source": [
    "# L = [10,20,30]\n",
    "# L.clear()\n",
    "# L"
   ]
  },
  {
   "cell_type": "code",
   "execution_count": 466,
   "metadata": {},
   "outputs": [
    {
     "name": "stdout",
     "output_type": "stream",
     "text": [
      "[1,hello,False,4.5,hi,True,4,1.4,are,not,12]\n"
     ]
    }
   ],
   "source": [
    "print(L)"
   ]
  },
  {
   "cell_type": "code",
   "execution_count": 467,
   "metadata": {},
   "outputs": [
    {
     "name": "stdout",
     "output_type": "stream",
     "text": [
      "[1,hello,False,4.5,hi,True,4,1.4,are,not,12]\n"
     ]
    }
   ],
   "source": [
    "# L.clear()\n",
    "print(L)"
   ]
  },
  {
   "cell_type": "markdown",
   "metadata": {},
   "source": [
    "# 8. find -> it will find the position of the value using value(item)"
   ]
  },
  {
   "cell_type": "code",
   "execution_count": 468,
   "metadata": {},
   "outputs": [
    {
     "name": "stdout",
     "output_type": "stream",
     "text": [
      "[1,hello,False,4.5,hi,True,4,1.4,are,not,12]\n"
     ]
    }
   ],
   "source": [
    "print(L)"
   ]
  },
  {
   "cell_type": "code",
   "execution_count": 469,
   "metadata": {},
   "outputs": [
    {
     "data": {
      "text/plain": [
       "3"
      ]
     },
     "execution_count": 469,
     "metadata": {},
     "output_type": "execute_result"
    }
   ],
   "source": [
    "# L.find('hello')\n",
    "L.find(4.5)"
   ]
  },
  {
   "cell_type": "code",
   "execution_count": 470,
   "metadata": {},
   "outputs": [
    {
     "data": {
      "text/plain": [
       "6"
      ]
     },
     "execution_count": 470,
     "metadata": {},
     "output_type": "execute_result"
    }
   ],
   "source": [
    "L.find(4)"
   ]
  },
  {
   "cell_type": "code",
   "execution_count": 471,
   "metadata": {},
   "outputs": [
    {
     "data": {
      "text/plain": [
       "'ValueError - not in list'"
      ]
     },
     "execution_count": 471,
     "metadata": {},
     "output_type": "execute_result"
    }
   ],
   "source": [
    "L.find(3)"
   ]
  },
  {
   "cell_type": "markdown",
   "metadata": {},
   "source": [
    "# 9. Insert -> it will find the position of the value using index"
   ]
  },
  {
   "cell_type": "code",
   "execution_count": 472,
   "metadata": {},
   "outputs": [
    {
     "name": "stdout",
     "output_type": "stream",
     "text": [
      "[1,hello,False,4.5,hi,True,4,1.4,are,not,12]\n"
     ]
    }
   ],
   "source": [
    "print(L)\n",
    "L.insert(0, \"how\") # insert(which postion, what item)"
   ]
  },
  {
   "cell_type": "code",
   "execution_count": 473,
   "metadata": {},
   "outputs": [
    {
     "name": "stdout",
     "output_type": "stream",
     "text": [
      "[how,1,hello,False,4.5,hi,True,4,1.4,are,not,12]\n"
     ]
    }
   ],
   "source": [
    "print(L)"
   ]
  },
  {
   "cell_type": "code",
   "execution_count": 474,
   "metadata": {},
   "outputs": [],
   "source": [
    "L.insert(5, True)"
   ]
  },
  {
   "cell_type": "code",
   "execution_count": 475,
   "metadata": {},
   "outputs": [
    {
     "name": "stdout",
     "output_type": "stream",
     "text": [
      "[how,1,hello,False,4.5,True,hi,True,4,1.4,are,not,12]\n"
     ]
    }
   ],
   "source": [
    "print(L)"
   ]
  },
  {
   "cell_type": "markdown",
   "metadata": {},
   "source": [
    "# 11. delete -> it will delete the item using position index"
   ]
  },
  {
   "cell_type": "code",
   "execution_count": 476,
   "metadata": {},
   "outputs": [
    {
     "name": "stdout",
     "output_type": "stream",
     "text": [
      "[how,1,hello,False,4.5,True,hi,True,4,1.4,are,not,12]\n"
     ]
    }
   ],
   "source": [
    "print(L)"
   ]
  },
  {
   "cell_type": "code",
   "execution_count": 477,
   "metadata": {
    "colab": {
     "base_uri": "https://localhost:8080/",
     "height": 35
    },
    "id": "WbFSLfpy8tK-",
    "outputId": "75daf089-3d0c-4d19-8f49-7930d70e06af"
   },
   "outputs": [
    {
     "name": "stdout",
     "output_type": "stream",
     "text": [
      "[how,1,False,4.5,True,hi,True,4,1.4,are,not,12]\n"
     ]
    }
   ],
   "source": [
    " del L[2] # calling __delitem__() method\n",
    "print(L)"
   ]
  },
  {
   "cell_type": "code",
   "execution_count": 478,
   "metadata": {
    "colab": {
     "base_uri": "https://localhost:8080/",
     "height": 168
    },
    "id": "PdLotNNm5vo7",
    "outputId": "51db0c71-0370-4d25-cdac-955b50c6ff0f"
   },
   "outputs": [],
   "source": [
    "del L[10]"
   ]
  },
  {
   "cell_type": "code",
   "execution_count": 479,
   "metadata": {
    "colab": {
     "base_uri": "https://localhost:8080/"
    },
    "id": "AO7K_n7-5wxT",
    "outputId": "737f3c40-e31a-4b0c-9920-b369e77b2625"
   },
   "outputs": [
    {
     "name": "stdout",
     "output_type": "stream",
     "text": [
      "[how,1,False,4.5,True,hi,True,4,1.4,are,12]\n"
     ]
    }
   ],
   "source": [
    "print(L)"
   ]
  },
  {
   "cell_type": "code",
   "execution_count": 480,
   "metadata": {},
   "outputs": [
    {
     "name": "stdout",
     "output_type": "stream",
     "text": [
      "[how,1,False,4.5,True,hi,True,4,1.4,are,12]\n"
     ]
    }
   ],
   "source": [
    "del L[23] # out of range index delete the last item if condition like ( if 0<= position < self.n:) is not implemented in code \n",
    "print(L)"
   ]
  },
  {
   "cell_type": "code",
   "execution_count": 481,
   "metadata": {},
   "outputs": [
    {
     "name": "stdout",
     "output_type": "stream",
     "text": [
      "[how,1,False,4.5,True,hi,True,4,1.4,are,12]\n"
     ]
    }
   ],
   "source": [
    "del L[100] #  out of range index delete the last item if condition like ( if 0<= position < self.n:) is not implemented in code  \n",
    "print(L)"
   ]
  },
  {
   "cell_type": "markdown",
   "metadata": {
    "id": "JtTWvkXL-6za"
   },
   "source": [
    "# 10. remove -> it will delete the value directly by searching it position"
   ]
  },
  {
   "cell_type": "code",
   "execution_count": 482,
   "metadata": {},
   "outputs": [
    {
     "name": "stdout",
     "output_type": "stream",
     "text": [
      "[how,1,False,4.5,True,hi,True,4,1.4,are,12]\n"
     ]
    }
   ],
   "source": [
    "print(L)\n",
    "L.remove(1.4)"
   ]
  },
  {
   "cell_type": "code",
   "execution_count": 483,
   "metadata": {},
   "outputs": [],
   "source": [
    "L.remove(True)"
   ]
  },
  {
   "cell_type": "code",
   "execution_count": 484,
   "metadata": {},
   "outputs": [
    {
     "name": "stdout",
     "output_type": "stream",
     "text": [
      "[how,False,4.5,True,hi,True,4,are,12]\n"
     ]
    }
   ],
   "source": [
    "print(L)"
   ]
  },
  {
   "cell_type": "code",
   "execution_count": 485,
   "metadata": {},
   "outputs": [],
   "source": [
    "L.remove(4.5)"
   ]
  },
  {
   "cell_type": "code",
   "execution_count": 486,
   "metadata": {},
   "outputs": [
    {
     "name": "stdout",
     "output_type": "stream",
     "text": [
      "[how,False,True,hi,True,4,are,12]\n"
     ]
    }
   ],
   "source": [
    "print(L)"
   ]
  }
 ],
 "metadata": {
  "colab": {
   "provenance": []
  },
  "kernelspec": {
   "display_name": "Python 3 (ipykernel)",
   "language": "python",
   "name": "python3"
  },
  "language_info": {
   "codemirror_mode": {
    "name": "ipython",
    "version": 3
   },
   "file_extension": ".py",
   "mimetype": "text/x-python",
   "name": "python",
   "nbconvert_exporter": "python",
   "pygments_lexer": "ipython3",
   "version": "3.10.13"
  }
 },
 "nbformat": 4,
 "nbformat_minor": 4
}
