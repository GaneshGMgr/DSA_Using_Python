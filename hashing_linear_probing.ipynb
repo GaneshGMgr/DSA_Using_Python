{
 "cells": [
  {
   "cell_type": "code",
   "execution_count": 71,
   "metadata": {
    "id": "wPH5PvaLmjQH"
   },
   "outputs": [],
   "source": [
    "class Dictionary:\n",
    "\n",
    "  def __init__(self, size):\n",
    "    self.size = size # size of the array\n",
    "      # two array \n",
    "    self.slots = [None] * self.size # 1. keys arrays  means slots where keys enter\n",
    "    self.data = [None] * self.size # 2. values/ data where values enters\n",
    "\n",
    "    ############################ 1. insert operation ############################\n",
    "    ##### here example of key and value\n",
    "    # Name : python # name is key and python is value\n",
    "    # age : 42 # age is key and 42 is value\n",
    "    # address : sdfjl # address is key and sdfjl is value\n",
    "    \n",
    "  def put(self, key, value):\n",
    "    hash_value = self.hash_function(key) # calculating the index positon to store the values by calling hass_function()\n",
    "\n",
    "      # checking at hash_value which is index is empty of pack already with another values\n",
    "    if self.slots[hash_value] == None:  # if empty index then store key in slots array and value in data array\n",
    "      self.slots[hash_value] = key\n",
    "      self.data[hash_value] = value\n",
    "\n",
    "    else: # if index pack then here also 2 possibility one is self same value and key is exist or another is  some other keys and value exist\n",
    "\n",
    "      if self.slots[hash_value] == key: # if same keys and value is exist \n",
    "        self.data[hash_value] = value # then we will change only value\n",
    "      else: # else if another some other keys and value exist then we will move to forward index until find empty cell and then \n",
    "        new_hash_value = self.rehash(hash_value) # calculate the index by rehashing\n",
    "\n",
    "          # looping the update index until rehashig index find None and also rehashing should not have same previous keys\n",
    "        while self.slots[new_hash_value] != None and self.slots[new_hash_value] != key:  # until the condition match  \n",
    "          new_hash_value = self.rehash(new_hash_value) # we re-compute new_hash_values using rehash() function\n",
    "            \n",
    "        if self.slots[new_hash_value] == None: # once hew_hash_value find None then  this mean same other keys also not found then\n",
    "          self.slots[new_hash_value] = key # insert key in new_hash_value index\n",
    "          self.data[new_hash_value] = value # insert value in new_hash_value index\n",
    "        else: # if hew_hash_value index contain previously store key then\n",
    "          self.data[new_hash_value] = value # then we have to change only data aray by putting value in new_hash_value index\n",
    "\n",
    "\n",
    "     ############################ 2. fetch operation ############################\n",
    "  def get(self, key):\n",
    "    start_position = self.hash_function(key) # calculate the hash index where to go and start searching\n",
    "    current_position = start_position\n",
    "      \n",
    "# by using while loop start searching from start_position  and not and if not found then also search all over the data structure until Noneby \n",
    "    while self.slots[current_position] != None: \n",
    "      if self.slots[current_position] == key: # if index is found before found None then \n",
    "        return self.data[current_position] # return that position value and exit while loop\n",
    "      \n",
    "      current_position = self.rehash(current_position) # if not found index befor found None then move forward cell by rehashing index\n",
    "        \n",
    "# this mean when start searching from start_position and continueous searching and still data not found then come back to again start_position\n",
    "        # then this mean that data is not in data structure\n",
    "      if current_position == start_position: \n",
    "        return \"Not Found\"\n",
    "\n",
    "    return \"None wala Not Found\" # this mean if bychance None is found then return not found.\n",
    "\n",
    "    #  __str__() function in hashing typically returns a string representation of the hash table, often displaying its contents for debugging or \n",
    "    # informative purposes.\n",
    "  def __str__(self):\n",
    "\n",
    "    for i in range(len(self.slots)):\n",
    "      if self.slots[i] != None:\n",
    "        print(self.slots[i],\":\",self.data[i],end=' ')\n",
    "\n",
    "    return \"\"\n",
    "\n",
    "    \n",
    "    ###  __getitem__() function retrieves the value associated with a given key by searching the hash table linearly, resolving collisions as needed.\n",
    "  def __getitem__(self,key): # __getitem__() method word as get()\n",
    "    return self.get(key)\n",
    "\n",
    "    \n",
    "    ###    __setitem__() function in hashing with linear probing inserts a key-value pair into the hash table, resolving collisions by searching for\n",
    "    ###     the next available slot in a linear manner.\n",
    "  def __setitem__(self,key,value):\n",
    "    self.put(key,value)\n",
    "\n",
    "    \n",
    "    ##########  rehash() function to calculate the index by updating index again and again into forward untill empty cell found to store the values\n",
    "  def rehash(self, old_hash):\n",
    "    return (old_hash + 1) % self.size\n",
    "\n",
    "    \n",
    "##########  hash() function to calculate the index to store the values\n",
    "  def hash_function(self, key):\n",
    "# hash() method calculate the hash of integer, string, float even tuple(1,2,3) p and abs for making +ve because hash() method may be -ve\n",
    "    return abs(hash(key)) % self.size "
   ]
  },
  {
   "cell_type": "code",
   "execution_count": 72,
   "metadata": {
    "colab": {
     "base_uri": "https://localhost:8080/"
    },
    "id": "pRrZUGLKng3b",
    "outputId": "995d5090-d3b6-488c-8ef0-2cabe4a29873"
   },
   "outputs": [
    {
     "data": {
      "text/plain": [
       "123"
      ]
     },
     "execution_count": 72,
     "metadata": {},
     "output_type": "execute_result"
    }
   ],
   "source": [
    "# hash() method calculate the hash of integer, string, float even tuple(1,2,3) and abs for making +ve because hash() method may be -ve\n",
    "# but hash() method cannot calculate the hash of mutable datatype like list [1,2,3]\n",
    "hash(123)"
   ]
  },
  {
   "cell_type": "code",
   "execution_count": 73,
   "metadata": {
    "colab": {
     "base_uri": "https://localhost:8080/"
    },
    "id": "5mieHHXgnidl",
    "outputId": "a8f54ce1-79e5-4cc1-e20c-4e1f556898ba"
   },
   "outputs": [
    {
     "data": {
      "text/plain": [
       "0"
      ]
     },
     "execution_count": 73,
     "metadata": {},
     "output_type": "execute_result"
    }
   ],
   "source": [
    "abs(hash(\"python\")) % 5"
   ]
  },
  {
   "cell_type": "code",
   "execution_count": 74,
   "metadata": {
    "colab": {
     "base_uri": "https://localhost:8080/"
    },
    "id": "Ccm0C1oFnqlJ",
    "outputId": "88bc968b-e660-404f-a838-57ba465d78f5"
   },
   "outputs": [
    {
     "data": {
      "text/plain": [
       "1152921504606846977"
      ]
     },
     "execution_count": 74,
     "metadata": {},
     "output_type": "execute_result"
    }
   ],
   "source": [
    "hash(1.5)"
   ]
  },
  {
   "cell_type": "code",
   "execution_count": 75,
   "metadata": {
    "colab": {
     "base_uri": "https://localhost:8080/"
    },
    "id": "UeEPpj7gnw9x",
    "outputId": "aa1608a1-747e-4646-def7-c1a0f43de2b1"
   },
   "outputs": [
    {
     "data": {
      "text/plain": [
       "529344067295497451"
      ]
     },
     "execution_count": 75,
     "metadata": {},
     "output_type": "execute_result"
    }
   ],
   "source": [
    "hash((1,2,3)) # tupple"
   ]
  },
  {
   "cell_type": "code",
   "execution_count": 76,
   "metadata": {
    "id": "Tsahuc9dn1RW"
   },
   "outputs": [],
   "source": [
    "D1 = Dictionary(3)"
   ]
  },
  {
   "cell_type": "code",
   "execution_count": 77,
   "metadata": {
    "colab": {
     "base_uri": "https://localhost:8080/"
    },
    "id": "H-IBVGlMq6CY",
    "outputId": "8351a58e-4a49-41da-8ae4-22f6a5eedc5b"
   },
   "outputs": [
    {
     "name": "stdout",
     "output_type": "stream",
     "text": [
      "[None, None, None]\n",
      "[None, None, None]\n"
     ]
    }
   ],
   "source": [
    "print(D1.slots)\n",
    "print(D1.data)"
   ]
  },
  {
   "cell_type": "markdown",
   "metadata": {},
   "source": [
    "##  1. insert operation"
   ]
  },
  {
   "cell_type": "code",
   "execution_count": 78,
   "metadata": {
    "id": "5zpRV5qWq-KQ"
   },
   "outputs": [],
   "source": [
    "D1['python'] = 56 # __setitem__()"
   ]
  },
  {
   "cell_type": "code",
   "execution_count": 79,
   "metadata": {},
   "outputs": [
    {
     "name": "stdout",
     "output_type": "stream",
     "text": [
      "[None, None, 'python']\n",
      "[None, None, 56]\n"
     ]
    }
   ],
   "source": [
    "print(D1.slots)\n",
    "print(D1.data)"
   ]
  },
  {
   "cell_type": "code",
   "execution_count": 80,
   "metadata": {
    "id": "tJMGxuxXrBuA"
   },
   "outputs": [],
   "source": [
    "D1['c'] = 1000"
   ]
  },
  {
   "cell_type": "code",
   "execution_count": 81,
   "metadata": {},
   "outputs": [
    {
     "name": "stdout",
     "output_type": "stream",
     "text": [
      "[None, 'c', 'python']\n",
      "[None, 1000, 56]\n"
     ]
    }
   ],
   "source": [
    "print(D1.slots)\n",
    "print(D1.data)"
   ]
  },
  {
   "cell_type": "code",
   "execution_count": 82,
   "metadata": {
    "colab": {
     "base_uri": "https://localhost:8080/",
     "height": 35
    },
    "id": "knXP48RYr3qt",
    "outputId": "4af90b14-f8a0-4c09-9154-83a52fd37c3f"
   },
   "outputs": [],
   "source": [
    "D1[\"php\"] = 43"
   ]
  },
  {
   "cell_type": "code",
   "execution_count": 83,
   "metadata": {},
   "outputs": [
    {
     "name": "stdout",
     "output_type": "stream",
     "text": [
      "['php', 'c', 'python']\n",
      "[43, 1000, 56]\n"
     ]
    }
   ],
   "source": [
    "print(D1.slots)\n",
    "print(D1.data)"
   ]
  },
  {
   "cell_type": "code",
   "execution_count": 84,
   "metadata": {},
   "outputs": [],
   "source": [
    "D1.put(\"c\",10000)"
   ]
  },
  {
   "cell_type": "markdown",
   "metadata": {},
   "source": [
    " ## 2. fetch operation"
   ]
  },
  {
   "cell_type": "code",
   "execution_count": 85,
   "metadata": {},
   "outputs": [
    {
     "data": {
      "text/plain": [
       "56"
      ]
     },
     "execution_count": 85,
     "metadata": {},
     "output_type": "execute_result"
    }
   ],
   "source": [
    "D1['python'] # __getitem__()"
   ]
  },
  {
   "cell_type": "code",
   "execution_count": 86,
   "metadata": {},
   "outputs": [
    {
     "data": {
      "text/plain": [
       "'Not Found'"
      ]
     },
     "execution_count": 86,
     "metadata": {},
     "output_type": "execute_result"
    }
   ],
   "source": [
    "D1.get('java')"
   ]
  },
  {
   "cell_type": "code",
   "execution_count": 87,
   "metadata": {},
   "outputs": [
    {
     "data": {
      "text/plain": [
       "43"
      ]
     },
     "execution_count": 87,
     "metadata": {},
     "output_type": "execute_result"
    }
   ],
   "source": [
    "D1.get('php')"
   ]
  },
  {
   "cell_type": "code",
   "execution_count": 88,
   "metadata": {},
   "outputs": [
    {
     "data": {
      "text/plain": [
       "10000"
      ]
     },
     "execution_count": 88,
     "metadata": {},
     "output_type": "execute_result"
    }
   ],
   "source": [
    "D1.get('c')"
   ]
  },
  {
   "cell_type": "code",
   "execution_count": 89,
   "metadata": {},
   "outputs": [
    {
     "data": {
      "text/plain": [
       "'Not Found'"
      ]
     },
     "execution_count": 89,
     "metadata": {},
     "output_type": "execute_result"
    }
   ],
   "source": [
    "D1.get('fd')"
   ]
  },
  {
   "cell_type": "code",
   "execution_count": 90,
   "metadata": {},
   "outputs": [
    {
     "data": {
      "text/plain": [
       "'Not Found'"
      ]
     },
     "execution_count": 90,
     "metadata": {},
     "output_type": "execute_result"
    }
   ],
   "source": [
    "D1['ffddd']"
   ]
  },
  {
   "cell_type": "code",
   "execution_count": 91,
   "metadata": {
    "colab": {
     "base_uri": "https://localhost:8080/"
    },
    "id": "KyVIC_r9r6L_",
    "outputId": "72c3d122-a3e2-4d05-e818-4dbc290af2a4"
   },
   "outputs": [
    {
     "name": "stdout",
     "output_type": "stream",
     "text": [
      "php : 43 c : 10000 python : 56 \n"
     ]
    }
   ],
   "source": [
    "print(D1) # __str__()"
   ]
  },
  {
   "cell_type": "code",
   "execution_count": 92,
   "metadata": {
    "colab": {
     "base_uri": "https://localhost:8080/",
     "height": 279
    },
    "id": "9m8irDJcvArW",
    "outputId": "291f042a-c013-4d9f-c1a8-f4a27a12a1cc"
   },
   "outputs": [],
   "source": [
    "# D1[[1,2,3]] = \"Hello\" # error occured because mutable data cannot be hash"
   ]
  },
  {
   "cell_type": "code",
   "execution_count": 93,
   "metadata": {
    "colab": {
     "base_uri": "https://localhost:8080/",
     "height": 167
    },
    "id": "78eTkCdrvQEO",
    "outputId": "80db0b4f-6f13-4c9f-b586-6298981db375"
   },
   "outputs": [],
   "source": [
    "# D2 = {[1,2,3]:\"Hello\"}"
   ]
  },
  {
   "cell_type": "code",
   "execution_count": null,
   "metadata": {
    "id": "whz_C2lRvWx4"
   },
   "outputs": [],
   "source": []
  }
 ],
 "metadata": {
  "colab": {
   "provenance": []
  },
  "kernelspec": {
   "display_name": "Python 3 (ipykernel)",
   "language": "python",
   "name": "python3"
  },
  "language_info": {
   "codemirror_mode": {
    "name": "ipython",
    "version": 3
   },
   "file_extension": ".py",
   "mimetype": "text/x-python",
   "name": "python",
   "nbconvert_exporter": "python",
   "pygments_lexer": "ipython3",
   "version": "3.10.13"
  }
 },
 "nbformat": 4,
 "nbformat_minor": 4
}
