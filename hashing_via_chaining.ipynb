{
 "cells": [
  {
   "cell_type": "code",
   "execution_count": 552,
   "metadata": {
    "id": "5RCi9eWfv3KK"
   },
   "outputs": [],
   "source": [
    "class Node:\n",
    "    \n",
    " ##### here example of key and value\n",
    "    # Name : python # name is key and python is value\n",
    "    # age : 42 # age is key and 42 is value\n",
    "    # address : sdfjl # address is key and sdfjl is value\n",
    "    \n",
    "  def __init__(self,key,value):\n",
    "    self.key = key\n",
    "    self.value = value\n",
    "    self.next = None"
   ]
  },
  {
   "cell_type": "code",
   "execution_count": 553,
   "metadata": {
    "id": "mQ4C69JewaWJ"
   },
   "outputs": [],
   "source": [
    "class LL:\n",
    "\n",
    "  def __init__(self):\n",
    "    self.head = None\n",
    "\n",
    "  def add(self, key, value):\n",
    "\n",
    "    new_node = Node(key, value)\n",
    "\n",
    "    if self.head == None:\n",
    "      self.head = new_node\n",
    "    else:\n",
    "\n",
    "      temp = self.head\n",
    "\n",
    "      while temp.next != None:\n",
    "        temp = temp.next\n",
    "\n",
    "      temp.next = new_node\n",
    "\n",
    "  def delete_head(self):\n",
    "\n",
    "    if self.head == None:\n",
    "      return \"Empty\"\n",
    "    else:\n",
    "      self.head = self.head.next\n",
    "\n",
    "  def remove(self, key):\n",
    "    if self.head.key == key:\n",
    "      self.delete_head()\n",
    "      return \n",
    "\n",
    "    if self.head == None:\n",
    "      return \"Empty\"\n",
    "    else:\n",
    "\n",
    "      temp = self.head\n",
    "\n",
    "      while temp.next != None:\n",
    "        if temp.next.key == key:\n",
    "          break\n",
    "        temp = temp.next\n",
    "\n",
    "      if temp.next == None:\n",
    "        return \"Not Found\"\n",
    "      else:\n",
    "        temp.next = temp.next.next\n",
    "    \n",
    "        \n",
    "\n",
    "  def traverse(self):\n",
    "\n",
    "    temp = self.head\n",
    "\n",
    "    while temp != None:\n",
    "\n",
    "      print(temp.key,\": \",temp.value,\" \", end=\" \")\n",
    "      temp = temp.next\n",
    "\n",
    "  def size(self):\n",
    "\n",
    "    temp = self.head\n",
    "    counter = 0\n",
    "\n",
    "    while temp != None:\n",
    "\n",
    "      counter += 1\n",
    "      temp = temp.next\n",
    "\n",
    "    return counter\n",
    "\n",
    "  def search(self,key):\n",
    "\n",
    "    temp = self.head\n",
    "    pos = 0\n",
    "\n",
    "    while temp != None:\n",
    "\n",
    "      if temp.key == key:\n",
    "        return pos\n",
    "\n",
    "      temp = temp.next\n",
    "      pos += 1\n",
    "\n",
    "    return -1\n",
    "\n",
    "    # if in linked list array if key is already present in a node then that node will be return it\n",
    "  def get_node_at_index(self,index):\n",
    "\n",
    "    temp = self.head\n",
    "    counter = 0\n",
    "\n",
    "    while temp is not None:\n",
    "\n",
    "      if counter == index:\n",
    "        return temp\n",
    "      temp = temp.next\n",
    "      counter+=1\n"
   ]
  },
  {
   "cell_type": "code",
   "execution_count": 554,
   "metadata": {
    "id": "KJq7iUJox5qM"
   },
   "outputs": [],
   "source": [
    "class Dictionary:\n",
    "\n",
    "  def __init__(self, capacity):\n",
    "\n",
    "    self.capacity = capacity # capacity indicate that how much capacity of array will be made\n",
    "    self.size = 0 # lenght of the keys and values\n",
    "    # create array of LL by calling the function make_array()\n",
    "    self.buckets = self.make_array(self.capacity) # it will create array  of linked list of size capacity name buckets\n",
    "\n",
    "    ########### creating array of size calacity ###########\n",
    "  def make_array(self,capacity): # creating array  of linked list of size capacity\n",
    "\n",
    "    L = [] # empty list\n",
    "    for i in range(capacity):\n",
    "      L.append(LL()) # according to the size of capacity store the LL Dictionary in empty list L  \n",
    "    return L\n",
    "\n",
    "    ### work for put() function\n",
    "  def __setitem__(self,key,value):\n",
    "    self.put(key,value)\n",
    "\n",
    "    ### work for get() function\n",
    "  def __getitem__(self,key):\n",
    "    return self.get(key)\n",
    "\n",
    "\n",
    "    ### delete item\n",
    "  def __delitem__(self,key):\n",
    "\n",
    "    bucket_index = self.hash_function(key) # calculate the hash function to get index of key\n",
    "\n",
    "    self.buckets[bucket_index].remove(key) # at that bucket_index then we well call remove function() in ll class and then remove well search and delete\n",
    "    self.size = self.size - 1  # decrease the length of the hash table by 1\n",
    "\n",
    "\n",
    "    ## traverse/ print\n",
    "  def __str__(self):\n",
    "\n",
    "    for i in self.buckets: ## loop for all ll array\n",
    "      i.traverse() ## call traverse() function for each and every buckets\n",
    "\n",
    "    return \"\"\n",
    "\n",
    "    \n",
    "  def __len__(self):\n",
    "    return self.size\n",
    "\n",
    " ########### fetch operation(get item) ########### -> same just like put function\n",
    "  def get(self,key):\n",
    "\n",
    "    bucket_index = self.hash_function(key)\n",
    "\n",
    "    res = self.buckets[bucket_index].search(key)\n",
    "\n",
    "    if res == -1: # this mean that key that we found is not in bucket\n",
    "      return \"Not Present\"\n",
    "    else: ## if key is found then \n",
    "      node = self.buckets[bucket_index].get_node_at_index(res)# get the node of index res\n",
    "      return node.value  # then return node value\n",
    "\n",
    "\n",
    "    ########### insert operation ###########\n",
    "  def put(self, key, value):\n",
    "\n",
    "    bucket_index = self.hash_function(key)\n",
    "\n",
    "    node_index = self.get_node_index(bucket_index, key)\n",
    "\n",
    "    if node_index == -1:# this mean if -1 == node_index then there is empty linked list array then we store new value\n",
    "      # insert\n",
    "      self.buckets[bucket_index].add(key,value) # insert key and value in bucket of index bucket_index by calling add() function in LL class above\n",
    "      self.size+=1 # then increase size by 1\n",
    "\n",
    "        # load_factor is calculate by size(no.of nodes) / capacity(capacity of the ll array) which is use to rehashing the buckets base on the condition\n",
    "        # to prevent from buckets being so leanthy.\n",
    "      load_factor = self.size/self.capacity\n",
    "      print(load_factor)\n",
    "\n",
    "      if (load_factor >= 2): # if condition match \n",
    "        self.rehash() # then linked list array will be rehash by calling the function rehash() and become new large size of linked list array\n",
    "          \n",
    "    else: # if node_index != -1  then there is already present key in node and then fetch that node by \" get_node_at_index()\" function calling  and \n",
    "      # update value\n",
    "      node = self.buckets[bucket_index].get_node_at_index(node_index) # getting the node at if the key is already present in that node\n",
    "      node.value = value # update value with new value\n",
    "\n",
    "    #### this rehash will resashing the LL array to new LL array with new LL array size\n",
    "  def rehash(self):\n",
    "    self.capacity = self.capacity * 2 # capacity will be double\n",
    "    old_buckets = self.buckets # previous buckets become old_buckets\n",
    "    self.size = 0 # size again 0 because empty ll array at first when rehash\n",
    "    self.buckets = self.make_array(self.capacity) # then new ll array with double capacity size\n",
    "\n",
    "    for i in old_buckets: # loop for every linked list array,  bucket is the part of linked list array 1bucket-> 2bucket-> 3bucket ..... like this\n",
    "      for j in range(i.size()): # loop for every each bucket upto it's size like 1bucket(value1)->1bucket(value2)...2bucket(value2)->2bucket(value3)... \n",
    "        node = i.get_node_at_index(j) # fetching each and every node\n",
    "        key_item = node.key # fetch key\n",
    "        value_item = node.value # fetch value\n",
    "        self.put(key_item,value_item) # insert key and value to new ll array \n",
    "\n",
    "\n",
    "\n",
    "  def get_node_index(self,bucket_index, key): # get the index of buckets that contain key by searching key\n",
    "# searching by search() function calling above LL class the key at array of bucket_index like searchin key at bucket_index 4\n",
    "    node_index = self.buckets[bucket_index].search(key) \n",
    "    return node_index\n",
    "\n",
    "    ########### hash calculation ###########\n",
    "  def hash_function(self,key):\n",
    "    return abs(hash(key)) % self.capacity\n",
    "\n"
   ]
  },
  {
   "cell_type": "code",
   "execution_count": 555,
   "metadata": {
    "id": "1g-0TdPgylif"
   },
   "outputs": [],
   "source": [
    "L = []\n",
    "\n",
    "for i in range(3):\n",
    "  L.append(LL())"
   ]
  },
  {
   "cell_type": "code",
   "execution_count": 556,
   "metadata": {
    "colab": {
     "base_uri": "https://localhost:8080/"
    },
    "id": "gnel5azbynrp",
    "outputId": "7d0d5b02-187b-4daa-b2b4-8f856741cff9"
   },
   "outputs": [
    {
     "data": {
      "text/plain": [
       "[<__main__.LL at 0x267cb9d0a60>,\n",
       " <__main__.LL at 0x267cb9d3ee0>,\n",
       " <__main__.LL at 0x267ca6c3dc0>]"
      ]
     },
     "execution_count": 556,
     "metadata": {},
     "output_type": "execute_result"
    }
   ],
   "source": [
    "L"
   ]
  },
  {
   "cell_type": "code",
   "execution_count": 557,
   "metadata": {
    "colab": {
     "base_uri": "https://localhost:8080/"
    },
    "id": "eiHqIb3Ayqcc",
    "outputId": "e02a1662-632e-4112-c062-4cfae494a026"
   },
   "outputs": [
    {
     "data": {
      "text/plain": [
       "__main__.LL"
      ]
     },
     "execution_count": 557,
     "metadata": {},
     "output_type": "execute_result"
    }
   ],
   "source": [
    "type(L[0])"
   ]
  },
  {
   "cell_type": "code",
   "execution_count": 558,
   "metadata": {
    "id": "4ErwNKDOyxC_"
   },
   "outputs": [],
   "source": [
    "L = [LL()] * 3"
   ]
  },
  {
   "cell_type": "code",
   "execution_count": 559,
   "metadata": {
    "colab": {
     "base_uri": "https://localhost:8080/"
    },
    "id": "GNyxjx1GzImN",
    "outputId": "4cffafa6-96ab-4832-9cc5-a96c97c351d1"
   },
   "outputs": [
    {
     "data": {
      "text/plain": [
       "[<__main__.LL at 0x267ca83ea40>,\n",
       " <__main__.LL at 0x267ca83ea40>,\n",
       " <__main__.LL at 0x267ca83ea40>]"
      ]
     },
     "execution_count": 559,
     "metadata": {},
     "output_type": "execute_result"
    }
   ],
   "source": [
    "L"
   ]
  },
  {
   "cell_type": "code",
   "execution_count": 560,
   "metadata": {
    "id": "ebSyUUwOzJNL"
   },
   "outputs": [],
   "source": [
    "L = LL()"
   ]
  },
  {
   "cell_type": "code",
   "execution_count": 561,
   "metadata": {
    "id": "8DIaEzDz2Qkm"
   },
   "outputs": [],
   "source": [
    "L.add(2,3)"
   ]
  },
  {
   "cell_type": "code",
   "execution_count": 562,
   "metadata": {
    "id": "S2tQqsow2SDP"
   },
   "outputs": [],
   "source": [
    "L.add(4,5)"
   ]
  },
  {
   "cell_type": "code",
   "execution_count": 563,
   "metadata": {
    "id": "xburqnbf2TIL"
   },
   "outputs": [],
   "source": [
    "L.add(6,7)"
   ]
  },
  {
   "cell_type": "code",
   "execution_count": 564,
   "metadata": {
    "colab": {
     "base_uri": "https://localhost:8080/"
    },
    "id": "v4M2yvXb2UV5",
    "outputId": "ceb8af33-4642-43d9-f384-71b00c513362"
   },
   "outputs": [
    {
     "name": "stdout",
     "output_type": "stream",
     "text": [
      "2 :  3   4 :  5   6 :  7   "
     ]
    }
   ],
   "source": [
    "L.traverse()"
   ]
  },
  {
   "cell_type": "code",
   "execution_count": 565,
   "metadata": {
    "colab": {
     "base_uri": "https://localhost:8080/"
    },
    "id": "nGsk8KSb2Wni",
    "outputId": "101cb8cc-836f-464b-b7c8-cc3041fe832a"
   },
   "outputs": [
    {
     "data": {
      "text/plain": [
       "2"
      ]
     },
     "execution_count": 565,
     "metadata": {},
     "output_type": "execute_result"
    }
   ],
   "source": [
    "L.get_node_at_index(0).key"
   ]
  },
  {
   "cell_type": "markdown",
   "metadata": {},
   "source": [
    "## 1. insert operation"
   ]
  },
  {
   "cell_type": "code",
   "execution_count": 566,
   "metadata": {
    "id": "S7_1IJsO2dOf"
   },
   "outputs": [],
   "source": [
    "D1 = Dictionary(3)"
   ]
  },
  {
   "cell_type": "code",
   "execution_count": 567,
   "metadata": {
    "colab": {
     "base_uri": "https://localhost:8080/"
    },
    "id": "Dfyo_T733ydy",
    "outputId": "481df50d-5ca4-4b36-d4e6-ced30b1f4f12"
   },
   "outputs": [
    {
     "name": "stdout",
     "output_type": "stream",
     "text": [
      "0.3333333333333333\n"
     ]
    }
   ],
   "source": [
    "D1.put(\"c\",20000)"
   ]
  },
  {
   "cell_type": "code",
   "execution_count": 568,
   "metadata": {},
   "outputs": [],
   "source": [
    "D1.buckets[0].traverse()"
   ]
  },
  {
   "cell_type": "code",
   "execution_count": 569,
   "metadata": {},
   "outputs": [
    {
     "name": "stdout",
     "output_type": "stream",
     "text": [
      "c :  20000   "
     ]
    }
   ],
   "source": [
    "D1.buckets[1].traverse()"
   ]
  },
  {
   "cell_type": "code",
   "execution_count": 570,
   "metadata": {},
   "outputs": [
    {
     "name": "stdout",
     "output_type": "stream",
     "text": [
      "0.6666666666666666\n"
     ]
    }
   ],
   "source": [
    "D1.put(\"java\",30000)"
   ]
  },
  {
   "cell_type": "code",
   "execution_count": 571,
   "metadata": {},
   "outputs": [
    {
     "name": "stdout",
     "output_type": "stream",
     "text": [
      "java :  30000   "
     ]
    }
   ],
   "source": [
    "D1.buckets[0].traverse()"
   ]
  },
  {
   "cell_type": "code",
   "execution_count": 572,
   "metadata": {},
   "outputs": [
    {
     "name": "stdout",
     "output_type": "stream",
     "text": [
      "1.0\n"
     ]
    }
   ],
   "source": [
    "D1.put(\"c++\",10000)"
   ]
  },
  {
   "cell_type": "code",
   "execution_count": 573,
   "metadata": {},
   "outputs": [],
   "source": [
    "D1.buckets[2].traverse()"
   ]
  },
  {
   "cell_type": "code",
   "execution_count": 574,
   "metadata": {},
   "outputs": [
    {
     "name": "stdout",
     "output_type": "stream",
     "text": [
      "1.3333333333333333\n"
     ]
    }
   ],
   "source": [
    "D1.put(\"nodejs\",100)"
   ]
  },
  {
   "cell_type": "code",
   "execution_count": 575,
   "metadata": {},
   "outputs": [
    {
     "name": "stdout",
     "output_type": "stream",
     "text": [
      "c :  20000   nodejs :  100   "
     ]
    }
   ],
   "source": [
    "D1.buckets[1].traverse()"
   ]
  },
  {
   "cell_type": "code",
   "execution_count": 576,
   "metadata": {},
   "outputs": [
    {
     "name": "stdout",
     "output_type": "stream",
     "text": [
      "1.6666666666666667\n"
     ]
    }
   ],
   "source": [
    "D1.put(\"javascript\",40000)"
   ]
  },
  {
   "cell_type": "code",
   "execution_count": 577,
   "metadata": {},
   "outputs": [
    {
     "name": "stdout",
     "output_type": "stream",
     "text": [
      "java :  30000   c++ :  10000   "
     ]
    }
   ],
   "source": [
    "D1.buckets[0].traverse()"
   ]
  },
  {
   "cell_type": "code",
   "execution_count": 578,
   "metadata": {},
   "outputs": [
    {
     "name": "stdout",
     "output_type": "stream",
     "text": [
      "2.0\n",
      "0.16666666666666666\n",
      "0.3333333333333333\n",
      "0.5\n",
      "0.6666666666666666\n",
      "0.8333333333333334\n",
      "1.0\n"
     ]
    }
   ],
   "source": [
    "D1.put(\"react\",70000)"
   ]
  },
  {
   "cell_type": "code",
   "execution_count": 579,
   "metadata": {},
   "outputs": [
    {
     "name": "stdout",
     "output_type": "stream",
     "text": [
      "1.1666666666666667\n"
     ]
    }
   ],
   "source": [
    "D1.put(\"flutter\",90000)"
   ]
  },
  {
   "cell_type": "code",
   "execution_count": 580,
   "metadata": {},
   "outputs": [
    {
     "name": "stdout",
     "output_type": "stream",
     "text": [
      "1.3333333333333333\n"
     ]
    }
   ],
   "source": [
    "D1.put(\"laravel\",110000)"
   ]
  },
  {
   "cell_type": "code",
   "execution_count": 581,
   "metadata": {},
   "outputs": [
    {
     "name": "stdout",
     "output_type": "stream",
     "text": [
      "1.5\n"
     ]
    }
   ],
   "source": [
    "D1.put(\"django\",12000)"
   ]
  },
  {
   "cell_type": "code",
   "execution_count": 582,
   "metadata": {},
   "outputs": [
    {
     "name": "stdout",
     "output_type": "stream",
     "text": [
      "1.6666666666666667\n"
     ]
    }
   ],
   "source": [
    "D1.put(\"html\",14000)"
   ]
  },
  {
   "cell_type": "code",
   "execution_count": 583,
   "metadata": {},
   "outputs": [
    {
     "name": "stdout",
     "output_type": "stream",
     "text": [
      "1.8333333333333333\n"
     ]
    }
   ],
   "source": [
    "D1.put(\"css\",13000)"
   ]
  },
  {
   "cell_type": "markdown",
   "metadata": {},
   "source": [
    "## 2. update operation"
   ]
  },
  {
   "cell_type": "code",
   "execution_count": 584,
   "metadata": {},
   "outputs": [],
   "source": [
    "D1.put(\"java\",5000)"
   ]
  },
  {
   "cell_type": "code",
   "execution_count": 585,
   "metadata": {},
   "outputs": [
    {
     "name": "stdout",
     "output_type": "stream",
     "text": [
      "java :  5000   "
     ]
    }
   ],
   "source": [
    "D1.buckets[0].traverse()"
   ]
  },
  {
   "cell_type": "markdown",
   "metadata": {},
   "source": [
    "## 3. fetch operation(get items)"
   ]
  },
  {
   "cell_type": "code",
   "execution_count": 586,
   "metadata": {},
   "outputs": [
    {
     "data": {
      "text/plain": [
       "5000"
      ]
     },
     "execution_count": 586,
     "metadata": {},
     "output_type": "execute_result"
    }
   ],
   "source": [
    "D1[\"java\"]"
   ]
  },
  {
   "cell_type": "code",
   "execution_count": 587,
   "metadata": {},
   "outputs": [
    {
     "data": {
      "text/plain": [
       "13000"
      ]
     },
     "execution_count": 587,
     "metadata": {},
     "output_type": "execute_result"
    }
   ],
   "source": [
    "D1[\"css\"]"
   ]
  },
  {
   "cell_type": "code",
   "execution_count": 588,
   "metadata": {},
   "outputs": [
    {
     "data": {
      "text/plain": [
       "20000"
      ]
     },
     "execution_count": 588,
     "metadata": {},
     "output_type": "execute_result"
    }
   ],
   "source": [
    "D1[\"c\"]"
   ]
  },
  {
   "cell_type": "code",
   "execution_count": 589,
   "metadata": {},
   "outputs": [
    {
     "data": {
      "text/plain": [
       "10000"
      ]
     },
     "execution_count": 589,
     "metadata": {},
     "output_type": "execute_result"
    }
   ],
   "source": [
    "D1[\"c++\"]"
   ]
  },
  {
   "cell_type": "code",
   "execution_count": 590,
   "metadata": {},
   "outputs": [
    {
     "data": {
      "text/plain": [
       "40000"
      ]
     },
     "execution_count": 590,
     "metadata": {},
     "output_type": "execute_result"
    }
   ],
   "source": [
    "D1[\"javascript\"]"
   ]
  },
  {
   "cell_type": "code",
   "execution_count": 591,
   "metadata": {},
   "outputs": [
    {
     "data": {
      "text/plain": [
       "100"
      ]
     },
     "execution_count": 591,
     "metadata": {},
     "output_type": "execute_result"
    }
   ],
   "source": [
    "D1[\"nodejs\"]"
   ]
  },
  {
   "cell_type": "code",
   "execution_count": 592,
   "metadata": {},
   "outputs": [
    {
     "data": {
      "text/plain": [
       "'Not Present'"
      ]
     },
     "execution_count": 592,
     "metadata": {},
     "output_type": "execute_result"
    }
   ],
   "source": [
    "D1[\"hgre\"]"
   ]
  },
  {
   "cell_type": "markdown",
   "metadata": {},
   "source": [
    "## 4. traverse"
   ]
  },
  {
   "cell_type": "code",
   "execution_count": 593,
   "metadata": {},
   "outputs": [
    {
     "name": "stdout",
     "output_type": "stream",
     "text": [
      "java :  5000   nodejs :  100   react :  70000   django :  12000   flutter :  90000   c++ :  10000   css :  13000   c :  20000   javascript :  40000   html :  14000   laravel :  110000   \n"
     ]
    }
   ],
   "source": [
    "print(D1)"
   ]
  },
  {
   "cell_type": "markdown",
   "metadata": {},
   "source": [
    "## 5. delete      __delitem__()"
   ]
  },
  {
   "cell_type": "code",
   "execution_count": 594,
   "metadata": {},
   "outputs": [],
   "source": [
    "del D1[\"java\"]"
   ]
  },
  {
   "cell_type": "code",
   "execution_count": 595,
   "metadata": {},
   "outputs": [
    {
     "data": {
      "text/plain": [
       "'Not Present'"
      ]
     },
     "execution_count": 595,
     "metadata": {},
     "output_type": "execute_result"
    }
   ],
   "source": [
    "D1[\"java\"]"
   ]
  },
  {
   "cell_type": "code",
   "execution_count": 596,
   "metadata": {},
   "outputs": [
    {
     "name": "stdout",
     "output_type": "stream",
     "text": [
      "nodejs :  100   react :  70000   django :  12000   flutter :  90000   c++ :  10000   css :  13000   c :  20000   javascript :  40000   html :  14000   laravel :  110000   \n"
     ]
    }
   ],
   "source": [
    "print(D1)"
   ]
  },
  {
   "cell_type": "markdown",
   "metadata": {},
   "source": [
    "## 6. len()"
   ]
  },
  {
   "cell_type": "code",
   "execution_count": 597,
   "metadata": {},
   "outputs": [
    {
     "data": {
      "text/plain": [
       "10"
      ]
     },
     "execution_count": 597,
     "metadata": {},
     "output_type": "execute_result"
    }
   ],
   "source": [
    "len(D1)"
   ]
  }
 ],
 "metadata": {
  "colab": {
   "provenance": []
  },
  "kernelspec": {
   "display_name": "Python 3 (ipykernel)",
   "language": "python",
   "name": "python3"
  },
  "language_info": {
   "codemirror_mode": {
    "name": "ipython",
    "version": 3
   },
   "file_extension": ".py",
   "mimetype": "text/x-python",
   "name": "python",
   "nbconvert_exporter": "python",
   "pygments_lexer": "ipython3",
   "version": "3.10.13"
  }
 },
 "nbformat": 4,
 "nbformat_minor": 4
}
