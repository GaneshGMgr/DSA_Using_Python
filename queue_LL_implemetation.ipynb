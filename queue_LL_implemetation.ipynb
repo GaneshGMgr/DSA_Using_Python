{
 "cells": [
  {
   "cell_type": "code",
   "execution_count": 35,
   "metadata": {
    "id": "PurBULUa-0Ud"
   },
   "outputs": [],
   "source": [
    "class Node:\n",
    "\n",
    "  def __init__(self,value):\n",
    "\n",
    "    self.data = value\n",
    "    self.next = None"
   ]
  },
  {
   "cell_type": "code",
   "execution_count": 42,
   "metadata": {
    "id": "crm3gdWj_n8i"
   },
   "outputs": [],
   "source": [
    "class Queue:\n",
    "\n",
    "  def __init__(self):\n",
    "    self.front = None # head\n",
    "    self.rear = None # tail\n",
    "\n",
    "    ################ 1. insert operation ######################\n",
    "  def enqueue(self,value):\n",
    "\n",
    "    new_node = Node(value) # create new node\n",
    "\n",
    "    if self.front == None: # this mean if queue is empty\n",
    "      self.front = new_node \n",
    "      self.rear = new_node\n",
    "\n",
    "    else: # this mean if queue is not empty that mean in queue at tail(last) conside their is 2 their is always 2->None\n",
    "      self.rear.next = new_node # break a connection fronm None with 2 and create rear(2).next = new_node\n",
    "      self.rear = new_node # now  this new_node become last node\n",
    "\n",
    "    ################ 2. delete operation ######################\n",
    "  def dequeue(self):\n",
    "\n",
    "    if self.front == None: # if front is none then their is not a single item contain\n",
    "      return \"Queue empty\"\n",
    "    else:\n",
    "      self.front = self.front.next# if 2->3-> here front is 2 now front(2) = front(2).next which is 3 then 2 will automatically delete 3 become front\n",
    "\n",
    "    \n",
    "  def is_empty(self): # checking queue is empty of not\n",
    "    return self.front == None\n",
    "  \n",
    "\n",
    "  def size(self): # checking the length of the queue\n",
    "      temp = self.front\n",
    "      counter = 0\n",
    "      while temp != None:\n",
    "          counter += 1\n",
    "          temp = temp.next\n",
    "      return counter\n",
    "      \n",
    "  def front_item(self): # check what value is contain at front mean at head from where data is out\n",
    "    if (not self.is_empty()):\n",
    "      return self.front.data\n",
    "    else:\n",
    "      return \"Empty queue\"\n",
    "\n",
    "  def rear_item(self): # checking what value is contain at rear mean at tail from where tail is in\n",
    "    if (not self.is_empty()):\n",
    "      return self.rear.data\n",
    "    else:\n",
    "      return \"Empty queue\"\n",
    "    \n",
    " ################ 3. traverse operation ######################\n",
    "  def traverse(self):\n",
    "\n",
    "    temp = self.front # 2->3->   2 is front here so temp = 2\n",
    "\n",
    "    while temp is not None:\n",
    "      print(temp.data,end=' ') # temp.data mean 2 and 3  according to the queue\n",
    "      temp = temp.next # after front is print front is move to next which is traversal\n"
   ]
  },
  {
   "cell_type": "code",
   "execution_count": 43,
   "metadata": {
    "id": "It7a1H5kBfbF"
   },
   "outputs": [],
   "source": [
    "q = Queue()"
   ]
  },
  {
   "cell_type": "markdown",
   "metadata": {},
   "source": [
    "## 1. insert operation"
   ]
  },
  {
   "cell_type": "code",
   "execution_count": 44,
   "metadata": {
    "id": "tsInv6hyBhUn"
   },
   "outputs": [],
   "source": [
    "q.enqueue(3)\n",
    "q.enqueue(4)\n",
    "q.enqueue(5)\n",
    "q.enqueue(7)"
   ]
  },
  {
   "cell_type": "markdown",
   "metadata": {},
   "source": [
    "## 3. traverse operation"
   ]
  },
  {
   "cell_type": "code",
   "execution_count": 45,
   "metadata": {
    "id": "ImvsCMX5Bm7S"
   },
   "outputs": [
    {
     "name": "stdout",
     "output_type": "stream",
     "text": [
      "3 4 5 7 "
     ]
    }
   ],
   "source": [
    "q.traverse()"
   ]
  },
  {
   "cell_type": "code",
   "execution_count": 54,
   "metadata": {},
   "outputs": [
    {
     "data": {
      "text/plain": [
       "3"
      ]
     },
     "execution_count": 54,
     "metadata": {},
     "output_type": "execute_result"
    }
   ],
   "source": [
    "q.size() # checking the length of the queue"
   ]
  },
  {
   "cell_type": "markdown",
   "metadata": {},
   "source": [
    "## 2. delete operation"
   ]
  },
  {
   "cell_type": "code",
   "execution_count": 46,
   "metadata": {
    "colab": {
     "base_uri": "https://localhost:8080/",
     "height": 35
    },
    "id": "cDKTXJyUBpD9",
    "outputId": "010edb40-1070-42ac-8763-6861ae825334"
   },
   "outputs": [],
   "source": [
    "q.dequeue()"
   ]
  },
  {
   "cell_type": "code",
   "execution_count": 47,
   "metadata": {},
   "outputs": [
    {
     "name": "stdout",
     "output_type": "stream",
     "text": [
      "4 5 7 "
     ]
    }
   ],
   "source": [
    "q.traverse()"
   ]
  },
  {
   "cell_type": "code",
   "execution_count": 48,
   "metadata": {
    "id": "w9ncP6MlB0KK"
   },
   "outputs": [],
   "source": [
    "q.enqueue(8)"
   ]
  },
  {
   "cell_type": "code",
   "execution_count": 49,
   "metadata": {
    "colab": {
     "base_uri": "https://localhost:8080/"
    },
    "id": "p_WrD96IB4oa",
    "outputId": "c08f14c5-330b-4012-c27a-7a482d867ecb"
   },
   "outputs": [
    {
     "data": {
      "text/plain": [
       "False"
      ]
     },
     "execution_count": 49,
     "metadata": {},
     "output_type": "execute_result"
    }
   ],
   "source": [
    "q.is_empty()  # checking queue is empty of not"
   ]
  },
  {
   "cell_type": "code",
   "execution_count": 57,
   "metadata": {},
   "outputs": [
    {
     "name": "stdout",
     "output_type": "stream",
     "text": [
      "5 7 8 "
     ]
    }
   ],
   "source": [
    "q.traverse()"
   ]
  },
  {
   "cell_type": "code",
   "execution_count": 55,
   "metadata": {
    "colab": {
     "base_uri": "https://localhost:8080/"
    },
    "id": "3HN0CH3IEI3K",
    "outputId": "631baeda-fe47-4cc8-9b20-6206152e9bcb"
   },
   "outputs": [
    {
     "data": {
      "text/plain": [
       "5"
      ]
     },
     "execution_count": 55,
     "metadata": {},
     "output_type": "execute_result"
    }
   ],
   "source": [
    "q.front_item()  # check what value is contain at front mean at head from where data is out"
   ]
  },
  {
   "cell_type": "code",
   "execution_count": 56,
   "metadata": {
    "colab": {
     "base_uri": "https://localhost:8080/"
    },
    "id": "WxhnIMn6ELpY",
    "outputId": "54dbd4a1-5aa5-4e4d-f20a-4fbb3d11714f"
   },
   "outputs": [
    {
     "data": {
      "text/plain": [
       "8"
      ]
     },
     "execution_count": 56,
     "metadata": {},
     "output_type": "execute_result"
    }
   ],
   "source": [
    "q.rear_item() # checking what value is contain at rear mean at tail from where data is in"
   ]
  },
  {
   "cell_type": "code",
   "execution_count": 52,
   "metadata": {
    "id": "yzG_VbWxEXcH"
   },
   "outputs": [],
   "source": [
    "q.dequeue()"
   ]
  },
  {
   "cell_type": "code",
   "execution_count": null,
   "metadata": {},
   "outputs": [],
   "source": [
    "# "
   ]
  },
  {
   "cell_type": "code",
   "execution_count": 58,
   "metadata": {
    "id": "q7wOxuqpEgoD"
   },
   "outputs": [],
   "source": [
    "# def check_balanced_parenthesis(s):\n",
    "#     stk = Stack()\n",
    "#     for item in s:\n",
    "#         if item == '(':\n",
    "#             stk.push(item)\n",
    "#         elif item == '{':\n",
    "#             stk.push(item)\n",
    "#         elif item == '[':\n",
    "#             stk.push(item)\n",
    "#         elif item == ')':\n",
    "#             if stk.peek() == '(':\n",
    "#                   stk.pop()\n",
    "#             else:\n",
    "#                 return False\n",
    "#         elif item == '}':\n",
    "#             if stk.peek() == '{':\n",
    "#                 stk.pop()\n",
    "#             else:\n",
    "#                 return False\n",
    "#         elif item == ']':\n",
    "#             if stk.peek() == '[':\n",
    "#                 stk.pop()\n",
    "#             else:\n",
    "#                 return False\n",
    "#         else:\n",
    "#             continue\n",
    "            \n",
    "#     return stk.is_empty()\n",
    "\n",
    "# s=\"{[(a+b) + (c+d)]}\"\n",
    "# print(check_balanced_parenthesis(s))\n"
   ]
  },
  {
   "cell_type": "code",
   "execution_count": null,
   "metadata": {},
   "outputs": [],
   "source": []
  }
 ],
 "metadata": {
  "colab": {
   "provenance": []
  },
  "kernelspec": {
   "display_name": "Python 3 (ipykernel)",
   "language": "python",
   "name": "python3"
  },
  "language_info": {
   "codemirror_mode": {
    "name": "ipython",
    "version": 3
   },
   "file_extension": ".py",
   "mimetype": "text/x-python",
   "name": "python",
   "nbconvert_exporter": "python",
   "pygments_lexer": "ipython3",
   "version": "3.10.13"
  }
 },
 "nbformat": 4,
 "nbformat_minor": 4
}
