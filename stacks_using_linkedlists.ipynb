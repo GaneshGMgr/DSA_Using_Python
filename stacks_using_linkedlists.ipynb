{
 "cells": [
  {
   "cell_type": "code",
   "execution_count": 26,
   "metadata": {
    "id": "hZmdW65Hrg8u"
   },
   "outputs": [],
   "source": [
    "class Node:\n",
    "\n",
    "  def __init__(self,value):\n",
    "    self.data = value\n",
    "    self.next = None"
   ]
  },
  {
   "cell_type": "code",
   "execution_count": 27,
   "metadata": {
    "id": "rtt-E3Borsef"
   },
   "outputs": [],
   "source": [
    "class Stack:\n",
    "\n",
    "  def __init__(self):\n",
    "    self.top = None\n",
    "      \n",
    "###################### 1. push ############################\n",
    "  def push(self, value):\n",
    "\n",
    "    new_node = Node(value)\n",
    "\n",
    "    new_node.next = self.top\n",
    "\n",
    "    self.top = new_node\n",
    "\n",
    "  def is_empty(self): # check the stack is empty or not\n",
    "    return self.top == None # if stack is empty then their is alway be top or head is Nonedd\n",
    "\n",
    "    \n",
    "###################### 2. pop ############################  -> delete the top of the element\n",
    "  def pop(self):\n",
    "\n",
    "    if (self.is_empty()):\n",
    "      return \"Stack Empty\"\n",
    "    else:\n",
    "      data = self.top.data # fetching the top value\n",
    "      self.top = self.top.next # removing the top of the value \n",
    "      return data\n",
    "\n",
    "    \n",
    "###################### 3. peak ############################ -> display the top of the item only\n",
    "  def peek(self):\n",
    "\n",
    "    if (self.is_empty()):\n",
    "      return \"Stack Empty\"\n",
    "    else:\n",
    "      return self.top.data\n",
    "\n",
    "    \n",
    "###################### 4. traverse ############################\n",
    "  def traverse(self):\n",
    "\n",
    "    temp = self.top\n",
    "\n",
    "    while temp is not None:\n",
    "      print(temp.data,end=' ')\n",
    "      temp = temp.next\n",
    "\n",
    "    ###################### 5. len ############################\n",
    "  def size(self):\n",
    "\n",
    "    temp = self.top\n",
    "    counter = 0\n",
    "\n",
    "    while temp is not None:\n",
    "      temp = temp.next\n",
    "      counter+=1\n",
    "\n",
    "    return counter\n",
    "\n",
    "\n",
    "\n",
    "  "
   ]
  },
  {
   "cell_type": "code",
   "execution_count": 28,
   "metadata": {},
   "outputs": [],
   "source": [
    "s = Stack()"
   ]
  },
  {
   "cell_type": "code",
   "execution_count": 29,
   "metadata": {},
   "outputs": [
    {
     "data": {
      "text/plain": [
       "True"
      ]
     },
     "execution_count": 29,
     "metadata": {},
     "output_type": "execute_result"
    }
   ],
   "source": [
    "s.is_empty() # check the stack is empty or not"
   ]
  },
  {
   "cell_type": "markdown",
   "metadata": {},
   "source": [
    "## 1. push() operation"
   ]
  },
  {
   "cell_type": "code",
   "execution_count": 30,
   "metadata": {},
   "outputs": [],
   "source": [
    "s.push(2)\n",
    "s.push('hi')\n",
    "s.push(3)\n",
    "s.push('how')\n",
    "s.push(4)\n",
    "s.push('are')\n",
    "s.push(5)\n",
    "s.push('you')"
   ]
  },
  {
   "cell_type": "code",
   "execution_count": 31,
   "metadata": {},
   "outputs": [
    {
     "data": {
      "text/plain": [
       "False"
      ]
     },
     "execution_count": 31,
     "metadata": {},
     "output_type": "execute_result"
    }
   ],
   "source": [
    "s.is_empty() # check the stack is empty or not"
   ]
  },
  {
   "cell_type": "markdown",
   "metadata": {},
   "source": [
    "## 2. traverse() operation"
   ]
  },
  {
   "cell_type": "code",
   "execution_count": 32,
   "metadata": {},
   "outputs": [
    {
     "name": "stdout",
     "output_type": "stream",
     "text": [
      "you 5 are 4 how 3 hi 2 "
     ]
    }
   ],
   "source": [
    "s.traverse()"
   ]
  },
  {
   "cell_type": "markdown",
   "metadata": {},
   "source": [
    "## 3. peak() operation"
   ]
  },
  {
   "cell_type": "code",
   "execution_count": 33,
   "metadata": {},
   "outputs": [
    {
     "data": {
      "text/plain": [
       "'you'"
      ]
     },
     "execution_count": 33,
     "metadata": {},
     "output_type": "execute_result"
    }
   ],
   "source": [
    "s.peek()"
   ]
  },
  {
   "cell_type": "markdown",
   "metadata": {},
   "source": [
    "## 4. pop() operation"
   ]
  },
  {
   "cell_type": "code",
   "execution_count": 34,
   "metadata": {},
   "outputs": [
    {
     "name": "stdout",
     "output_type": "stream",
     "text": [
      "you 5 are 4 how 3 hi 2 "
     ]
    },
    {
     "data": {
      "text/plain": [
       "'you'"
      ]
     },
     "execution_count": 34,
     "metadata": {},
     "output_type": "execute_result"
    }
   ],
   "source": [
    "s.traverse()\n",
    "s.pop()"
   ]
  },
  {
   "cell_type": "code",
   "execution_count": 35,
   "metadata": {},
   "outputs": [
    {
     "name": "stdout",
     "output_type": "stream",
     "text": [
      "5 are 4 how 3 hi 2 "
     ]
    }
   ],
   "source": [
    "s.traverse()"
   ]
  },
  {
   "cell_type": "markdown",
   "metadata": {},
   "source": [
    "## 5. len()"
   ]
  },
  {
   "cell_type": "code",
   "execution_count": 36,
   "metadata": {},
   "outputs": [
    {
     "data": {
      "text/plain": [
       "7"
      ]
     },
     "execution_count": 36,
     "metadata": {},
     "output_type": "execute_result"
    }
   ],
   "source": [
    "s.size()"
   ]
  },
  {
   "cell_type": "markdown",
   "metadata": {},
   "source": [
    "#### string reversal"
   ]
  },
  {
   "cell_type": "code",
   "execution_count": 37,
   "metadata": {
    "id": "BGbRtvBtsxWv"
   },
   "outputs": [],
   "source": [
    "def reverse_string(string):\n",
    "  s = Stack()\n",
    "  for i in string:\n",
    "\n",
    "    s.push(i)\n",
    "\n",
    "  res = \"\"\n",
    "\n",
    "  while (not s.is_empty()):\n",
    "    res = res + s.pop()\n",
    "\n",
    "  print(res)\n"
   ]
  },
  {
   "cell_type": "code",
   "execution_count": 38,
   "metadata": {
    "colab": {
     "base_uri": "https://localhost:8080/"
    },
    "id": "QhsdbhM6szTX",
    "outputId": "78119fa7-6394-4190-f9cd-ef493960ad47"
   },
   "outputs": [
    {
     "name": "stdout",
     "output_type": "stream",
     "text": [
      "aidlaH\n"
     ]
    }
   ],
   "source": [
    "reverse_string(\"Haldia\")"
   ]
  },
  {
   "cell_type": "markdown",
   "metadata": {},
   "source": [
    "## text editor problem"
   ]
  },
  {
   "cell_type": "code",
   "execution_count": null,
   "metadata": {
    "id": "ZrgxN_GUs3qz"
   },
   "outputs": [],
   "source": [
    "def text_editor(text,pattern):\n",
    "\n",
    "  u = Stack() # this is for undo stack\n",
    "  r = Stack() # this is for redo stack\n",
    "\n",
    "  for i in text:\n",
    "    u.push(i)\n",
    "\n",
    "  for i in pattern:\n",
    "\n",
    "    if i == 'u':\n",
    "      data = u.pop() # pop from undo stack if pattern is u \n",
    "      r.push(data) # and push to redo stck \n",
    "    else:\n",
    "      data = r.pop() # pop from redo stack if pattern is r\n",
    "      u.push(data) # and push back to undo stack\n",
    "\n",
    "  res = \"\"\n",
    "\n",
    "  while(not u.is_empty()):\n",
    "    res = u.pop() + res\n",
    "\n",
    "  print(res)"
   ]
  },
  {
   "cell_type": "code",
   "execution_count": null,
   "metadata": {
    "colab": {
     "base_uri": "https://localhost:8080/"
    },
    "id": "oQPCKEfcs5R-",
    "outputId": "d1d5fa57-d2dc-4738-c684-c877d6e75918"
   },
   "outputs": [
    {
     "name": "stdout",
     "output_type": "stream",
     "text": [
      "He\n"
     ]
    }
   ],
   "source": [
    "text_editor(\"Hello\",\"uurruuuur\")"
   ]
  },
  {
   "cell_type": "code",
   "execution_count": null,
   "metadata": {
    "colab": {
     "base_uri": "https://localhost:8080/"
    },
    "id": "m654b_-1tk3K",
    "outputId": "005a98c8-bb28-4bae-a3d6-f75142a6e7c8"
   },
   "outputs": [
    {
     "data": {
      "text/plain": [
       "2"
      ]
     },
     "execution_count": 22,
     "metadata": {
      "tags": []
     },
     "output_type": "execute_result"
    }
   ],
   "source": [
    "s.peek()"
   ]
  },
  {
   "cell_type": "code",
   "execution_count": null,
   "metadata": {
    "id": "KAK7xz32uAYC"
   },
   "outputs": [],
   "source": [
    "def brackets(expr):\n",
    "\n",
    "  s = Stack()\n",
    "\n",
    "  for i in expr:\n",
    "\n",
    "    if i == '(':\n",
    "      s.push(i)\n",
    "    elif i == ')':\n",
    "      if s.peek() == '(':\n",
    "        s.pop()\n",
    "      else:\n",
    "        print(\"Imbalanced\")\n",
    "        return \n",
    "\n",
    "  if (s.is_empty()):\n",
    "    print(\"Balanced\")\n",
    "  else:\n",
    "    print(\"Imbalanced\")\n",
    "\n"
   ]
  },
  {
   "cell_type": "code",
   "execution_count": null,
   "metadata": {},
   "outputs": [],
   "source": [
    "def brackets(expr):\n",
    "\n",
    "  s = Stack()\n",
    "\n",
    "  for i in expr:\n",
    "\n",
    "    if i == '(' or i=='{' or i=='[':\n",
    "      s.push(i)\n",
    "    elif i == ')':\n",
    "      if s.peek() == '(':\n",
    "        s.pop()\n",
    "      else:\n",
    "        print(\"Imbalanced\")\n",
    "        return \n",
    "\n",
    "  if (s.is_empty()):\n",
    "    print(\"Balanced\")\n",
    "  else:\n",
    "    print(\"Imbalanced\")\n",
    "\n"
   ]
  },
  {
   "cell_type": "markdown",
   "metadata": {},
   "source": [
    "## celebrity problem"
   ]
  },
  {
   "cell_type": "code",
   "execution_count": null,
   "metadata": {
    "id": "QaLvtu9G1TNI"
   },
   "outputs": [],
   "source": [
    "L = [\n",
    "     [0,1,0,0],\n",
    "     [0,0,1,1],\n",
    "     [1,0,0,1],\n",
    "     [0,0,0,0]\n",
    "]"
   ]
  },
  {
   "cell_type": "code",
   "execution_count": null,
   "metadata": {
    "id": "o8VYAoTf1Xd4"
   },
   "outputs": [],
   "source": [
    "def celebrity(L):\n",
    "\n",
    "  s = Stack()\n",
    "\n",
    "  for i in range(len(L)):\n",
    "    s.push(i)\n",
    "\n",
    "  while s.size() >= 2:\n",
    "\n",
    "    i = s.pop()\n",
    "    j = s.pop()\n",
    "\n",
    "    if L[i][j] == 0:\n",
    "      # j is not a celebrity\n",
    "      s.push(i)\n",
    "    else:\n",
    "      # i is not a celebrity\n",
    "      s.push(j)\n",
    "\n",
    "  cel = s.pop()\n",
    "\n",
    "  for i in range(len(L)):\n",
    "\n",
    "    if i != cel:\n",
    "\n",
    "      if L[i][cel] != 1 or L[cel][i] != 0:\n",
    "        print(\"No celebrity\")\n",
    "        return\n",
    "  print(\"Celebrity is\",cel)\n"
   ]
  },
  {
   "cell_type": "code",
   "execution_count": null,
   "metadata": {
    "colab": {
     "base_uri": "https://localhost:8080/"
    },
    "id": "lTBOAdHl3g_h",
    "outputId": "216850a0-166b-49c8-fe31-21511c3c3db3"
   },
   "outputs": [
    {
     "name": "stdout",
     "output_type": "stream",
     "text": [
      "No celebrity\n"
     ]
    }
   ],
   "source": [
    "celebrity(L)"
   ]
  },
  {
   "cell_type": "code",
   "execution_count": null,
   "metadata": {
    "colab": {
     "base_uri": "https://localhost:8080/"
    },
    "id": "aHFtqsXH3i8y",
    "outputId": "d0031394-070d-43bc-d629-13012308e8ce"
   },
   "outputs": [
    {
     "data": {
      "text/plain": [
       "3"
      ]
     },
     "execution_count": 31,
     "metadata": {
      "tags": []
     },
     "output_type": "execute_result"
    }
   ],
   "source": [
    "s=Stack()\n",
    "s.push(1)\n",
    "s.push(2)\n",
    "s.push(3)\n",
    "\n",
    "s.size()"
   ]
  },
  {
   "cell_type": "code",
   "execution_count": null,
   "metadata": {
    "colab": {
     "base_uri": "https://localhost:8080/"
    },
    "id": "ro6tBQmZ3_zz",
    "outputId": "59648a8c-30e6-4b2b-a308-3a4728374729"
   },
   "outputs": [
    {
     "data": {
      "text/plain": [
       "[[0, 1, 0, 1], [0, 0, 1, 1], [1, 0, 0, 1], [0, 0, 0, 0]]"
      ]
     },
     "execution_count": 32,
     "metadata": {
      "tags": []
     },
     "output_type": "execute_result"
    }
   ],
   "source": [
    "L"
   ]
  },
  {
   "cell_type": "code",
   "execution_count": null,
   "metadata": {
    "colab": {
     "base_uri": "https://localhost:8080/"
    },
    "id": "K_elaP-x4O0c",
    "outputId": "1f3daf0c-63ab-4f40-8a94-e92153cfc95c"
   },
   "outputs": [
    {
     "data": {
      "text/plain": [
       "1"
      ]
     },
     "execution_count": 35,
     "metadata": {
      "tags": []
     },
     "output_type": "execute_result"
    }
   ],
   "source": [
    "i = 3\n",
    "j = 2\n",
    "\n",
    "L[i][j]"
   ]
  },
  {
   "cell_type": "code",
   "execution_count": null,
   "metadata": {
    "id": "lWg-PCxT4THU"
   },
   "outputs": [],
   "source": [
    "a = Stack()\n",
    "b = Stack()"
   ]
  },
  {
   "cell_type": "code",
   "execution_count": null,
   "metadata": {
    "id": "I5I6UDEOHneS"
   },
   "outputs": [],
   "source": [
    "def enqueue_stack(value):\n",
    "  a.push(value)\n",
    "\n",
    "def dequeue_stack():\n",
    "\n",
    "  if not b.is_empty():\n",
    "    b.pop()\n",
    "  else:\n",
    "    if a.is_empty():\n",
    "      print(\"Empty queue\")\n",
    "    else:\n",
    "      while(not a.is_empty()):\n",
    "        data = a.pop()\n",
    "        b.push(data)\n",
    "\n",
    "      b.pop()\n"
   ]
  },
  {
   "cell_type": "code",
   "execution_count": 39,
   "metadata": {
    "id": "-MVNBe9nIclt"
   },
   "outputs": [
    {
     "name": "stdout",
     "output_type": "stream",
     "text": [
      "True\n"
     ]
    }
   ],
   "source": [
    "def check_balanced_parenthesis(s):\n",
    "    stk = Stack()\n",
    "    for item in s:\n",
    "        if item == '(':\n",
    "            stk.push(item)\n",
    "        elif item == '{':\n",
    "            stk.push(item)\n",
    "        elif item == '[':\n",
    "            stk.push(item)\n",
    "        elif item == ')':\n",
    "            if stk.peek() == '(':\n",
    "                stk.pop()\n",
    "            else:\n",
    "                return False\n",
    "        elif item == '}':\n",
    "            if stk.peek() == '{':\n",
    "                stk.pop()\n",
    "            else:\n",
    "                return False\n",
    "        elif item == ']':\n",
    "            if stk.peek() == '[':\n",
    "                stk.pop()\n",
    "            else:\n",
    "                return False\n",
    "        else:\n",
    "            continue\n",
    "            \n",
    "    return stk.is_empty()\n",
    "\n",
    "s=\"{[(a+b) + (c+d)]}\"\n",
    "print(check_balanced_parenthesis(s))\n"
   ]
  },
  {
   "cell_type": "code",
   "execution_count": null,
   "metadata": {},
   "outputs": [],
   "source": []
  }
 ],
 "metadata": {
  "colab": {
   "provenance": []
  },
  "kernelspec": {
   "display_name": "Python 3 (ipykernel)",
   "language": "python",
   "name": "python3"
  },
  "language_info": {
   "codemirror_mode": {
    "name": "ipython",
    "version": 3
   },
   "file_extension": ".py",
   "mimetype": "text/x-python",
   "name": "python",
   "nbconvert_exporter": "python",
   "pygments_lexer": "ipython3",
   "version": "3.10.13"
  }
 },
 "nbformat": 4,
 "nbformat_minor": 4
}
